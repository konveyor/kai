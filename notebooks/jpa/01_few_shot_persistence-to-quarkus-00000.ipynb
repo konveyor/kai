{
 "cells": [
  {
   "cell_type": "markdown",
   "metadata": {},
   "source": [
    "# Few Shot: JPA - Rule: persistence-to-quarkus\n",
    "\n",
    "> This notebook will work with a LLM to generate a fix for JPA related persistence rules found in 'cmt' and 'bmt'.  We will use 'bmt' as the solved example.\n",
    "\n",
    "##### Sample Applications Used\n",
    "* 2 sample apps from [JBoss EAP Quickstarts](https://github.com/jboss-developer/jboss-eap-quickstarts/tree/7.4.x) were chosen: cmt & bmt. \n",
    "* Christopher May [christophermay07](https://github.com/christophermay07) migrated these applications to Quarkus in https://github.com/christophermay07/quarkus-migrations.  \n",
    "* We have created new repositories that contain the original Java EE state in the 'main' branch and Chris' Quarkus migration in the 'quarkus' branch \n",
    "    * [bmt](https://github.com/konveyor-ecosystem/bmt)\n",
    "    * [cmt](https://github.com/konveyor-ecosystem/cmt)\n",
    "\n",
    "##### Using Custom Rules for JPA\n",
    "* Rules were developed by Juanma [@jmle](https://github.com/jmle)\n",
    "    * Rules originally from: https://github.com/jmle/kai-examples/blob/main/analyzer-lsp-rules/01-persistence-to-quarkus.windup.yaml\n",
    "    * Specific rule this notebook will fix: `persistence-to-quarkus-00000`\n",
    "            The persistence API of JavaEE provides all sorts of utilities for accessing databases in an object oriented manner (object-relational mapping and such). It is 100% supported, but still needs to be migrated.\n",
    "\n",
    "            The Persistence API in JavaEE has the concept of datasources and persistence units. These are abstractions of the underlying databases for ORM purposes, and they need to be configured. In JavaEE, XML files are used for this, but in Quarkus all this configuration can (and should) be moved to a single, centralized *.properties file.\n",
    "\n",
    "            This rule simply looks for the existence of the XML configuration rules.\n",
    "    * persistence-to-quarkus-00011\n",
    "            This is a rule to remove an unneeded (and illegal) `@Produces` annotation on the `@EntityManager`. We want to to see if the LLM will suggest to add the Qualifier, as explained in the message.\n",
    "    \n",
    "    \n"
   ]
  },
  {
   "cell_type": "code",
   "execution_count": 1,
   "metadata": {},
   "outputs": [
    {
     "name": "stdout",
     "output_type": "stream",
     "text": [
      "Obtaining file:///Users/jmatthews/git/jwmatthews/kai\n",
      "  Preparing metadata (setup.py) ... \u001b[?25ldone\n",
      "\u001b[?25hInstalling collected packages: kai\n",
      "  Attempting uninstall: kai\n",
      "    Found existing installation: kai 0.0.1\n",
      "    Uninstalling kai-0.0.1:\n",
      "      Successfully uninstalled kai-0.0.1\n",
      "  Running setup.py develop for kai\n",
      "Successfully installed kai-0.0.1\n"
     ]
    }
   ],
   "source": [
    "# Install local kai package in the current Jupyter kernel\n",
    "import sys\n",
    "\n",
    "!{sys.executable} -m pip install -e ../../"
   ]
  },
  {
   "cell_type": "code",
   "execution_count": 2,
   "metadata": {},
   "outputs": [],
   "source": [
    "# Bring in the common deps\n",
    "import os\n",
    "import pprint\n",
    "\n",
    "from langchain import PromptTemplate\n",
    "from langchain.chat_models import ChatOpenAI\n",
    "from langchain.chains import LLMChain\n",
    "\n",
    "pp = pprint.PrettyPrinter(indent=2)\n",
    "\n",
    "\n",
    "def get_java_in_result(text: str):\n",
    "    languages = [\"java\", \"xml\"]\n",
    "    for lang in languages:\n",
    "        _, updated_file = text.split(f\"## Updated File\")\n",
    "        try:\n",
    "            _, after = updated_file.split(f\"```{lang}\")\n",
    "            return after.split(\"```\")[0]\n",
    "        except ValueError:\n",
    "            # ValueError: not enough values to unpack (expected 2, got 1)\n",
    "            print(f\"Didn't find a result for language '{lang}'\")\n",
    "    print(f\"Unable to find any Java or XML in the result:\\n {text}\")\n",
    "    raise ValueError(\"Unable to parse result\")\n",
    "\n",
    "\n",
    "def write_output_to_disk(\n",
    "    out_dir,\n",
    "    formatted_template,\n",
    "    example_javaee_file_contents,\n",
    "    example_quarkus_file_contents,\n",
    "    result,\n",
    "):\n",
    "    try:\n",
    "        os.makedirs(out_dir, exist_ok=True)\n",
    "    except OSError as error:\n",
    "        print(f\"Error creating directory {out_dir}: {error}\")\n",
    "        raise error\n",
    "\n",
    "    # Save the template to disk\n",
    "    template_path = os.path.join(out_dir, \"template.txt\")\n",
    "    with open(template_path, \"w\") as f:\n",
    "        f.truncate()\n",
    "        f.write(formatted_template)\n",
    "    print(f\"Saved template to {template_path}\")\n",
    "\n",
    "    # Save the result\n",
    "    result_path = os.path.join(out_dir, \"result.txt\")\n",
    "    with open(result_path, \"w\") as f:\n",
    "        f.truncate()\n",
    "        f.write(result)\n",
    "    print(f\"Saved result to {result_path}\")\n",
    "\n",
    "    # Extract the updated java code and save it\n",
    "    updated_file_contents = get_java_in_result(result)\n",
    "    updated_file_path = os.path.join(out_dir, \"updated_file.java\")\n",
    "    with open(updated_file_path, \"w\") as f:\n",
    "        f.truncate()\n",
    "        f.write(updated_file_contents)\n",
    "    print(f\"Saved updated java file to {updated_file_path}\")\n",
    "\n",
    "    # Save the original source code\n",
    "    original_file_path = os.path.join(out_dir, \"original_file.java\")\n",
    "    with open(original_file_path, \"w\") as f:\n",
    "        f.truncate()\n",
    "        f.write(example_javaee_file_contents)\n",
    "    print(f\"Saved original java file to {original_file_path}\")\n",
    "\n",
    "    # Save the Quarkus version we already in Git to use as a comparison\n",
    "    known_quarkus_file_path = os.path.join(out_dir, \"quarkus_version_from_git.java\")\n",
    "    with open(known_quarkus_file_path, \"w\") as f:\n",
    "        f.truncate()\n",
    "        f.write(example_quarkus_file_contents)\n",
    "    print(f\"Saved Quarkus version from Git to {known_quarkus_file_path}\")"
   ]
  },
  {
   "cell_type": "markdown",
   "metadata": {},
   "source": [
    "# Create a Prompt\n",
    "## Step #1:  Create a Prompt Template\n"
   ]
  },
  {
   "cell_type": "code",
   "execution_count": 3,
   "metadata": {},
   "outputs": [],
   "source": [
    "template_with_solved_example_and_analysis = \"\"\"\n",
    "    # Java EE to Quarkus Migration\n",
    "    You are an AI Assistant trained on migrating enterprise JavaEE code to Quarkus.\n",
    "    I will give you an example of a JavaEE file and you will give me the Quarkus equivalent.\n",
    "\n",
    "    To help you update this file to Quarkus I will provide you with static source code analysis information\n",
    "    highlighting an issue which needs to be addressed, I will also provide you with an example of how a similar\n",
    "    issue was solved in the past via a solved example.  You can refer to the solved example for a pattern of\n",
    "    how to update the input Java EE file to Quarkus.\n",
    "\n",
    "    Be sure to pay attention to the issue found from static analysis and treat it as the primary issue you must \n",
    "    address or explain why you are unable to.\n",
    "\n",
    "    Approach this code migration from Java EE to Quarkus as if you were an experienced enterprise Java EE developer.\n",
    "    Before attempting to migrate the code to Quarkus, explain each step of your reasoning through what changes \n",
    "    are required and why. \n",
    "\n",
    "    Pay attention to changes you make and impacts to external dependencies in the pom.xml as well as changes \n",
    "    to imports we need to consider.\n",
    "\n",
    "    As you make changes that impact the pom.xml or imports, be sure you explain what needs to be updated.\n",
    "    \n",
    "    After you have shared your step by step thinking, provide a full output of the updated file:\n",
    "\n",
    "    # Input information\n",
    "    ## Issue found from static code analysis of the Java EE code which needs to be fixed to migrate to Quarkus\n",
    "    Issue to fix:  \"{analysis_message}\"\n",
    "\n",
    "    ## Solved Example Filename\n",
    "    Filename: \"{solved_example_file_name}\"\n",
    "\n",
    "    ## Solved Example Git Diff \n",
    "    This diff of the solved example shows what changes we made in past to address a similar problem.\n",
    "    Please consider this heavily in your response.\n",
    "    ```diff\n",
    "    {solved_example_diff}\n",
    "    ```\n",
    "\n",
    "    ## Input file name\n",
    "    Filename: \"{src_file_name}\"\n",
    "\n",
    "    ## Input Line number of the issue first appearing in the Java EE code source code example below\n",
    "    Line number: {analysis_lineNumber}\n",
    "    \n",
    "    ## Input source code file contents for \"{src_file_name}\"\n",
    "    ```java \n",
    "    {src_file_contents}\n",
    "    ```\n",
    "\n",
    "    # Output Instructions\n",
    "    Structure your ouput in Markdown format such as:\n",
    "\n",
    "    ## Reasoning\n",
    "    Write the step by step reasoning in this markdown section.\n",
    "    If you are unsure of a step or reasoning, clearly state you are unsure and why.\n",
    "\n",
    "    ## Updated File\n",
    "    ```java\n",
    "        Write the updated file for Quarkus in this section\n",
    "    ```\n",
    "   \n",
    "    \"\"\""
   ]
  },
  {
   "cell_type": "markdown",
   "metadata": {},
   "source": [
    "## Step #2: Find the common incidents we see in both applications"
   ]
  },
  {
   "cell_type": "code",
   "execution_count": 4,
   "metadata": {},
   "outputs": [
    {
     "name": "stdout",
     "output_type": "stream",
     "text": [
      "Reading report from ./analysis_report/cmt/output.yaml\n",
      "Reading report from ./analysis_report/bmt/output.yaml\n"
     ]
    },
    {
     "data": {
      "text/plain": [
       "{'persistence-to-quarkus-00000'}"
      ]
     },
     "execution_count": 4,
     "metadata": {},
     "output_type": "execute_result"
    }
   ],
   "source": [
    "from kai.report import Report\n",
    "\n",
    "ruleset_name = \"kai/quarkus\"\n",
    "\n",
    "\n",
    "def find_common_rules(report1, report2, ruleset_name):\n",
    "    common_rules = set(report1.report[ruleset_name][\"violations\"].keys()) & set(\n",
    "        report2.report[ruleset_name][\"violations\"].keys()\n",
    "    )\n",
    "    return common_rules\n",
    "\n",
    "\n",
    "# Static code analysis was run prior and committed to this repo\n",
    "path_cmt_analysis = \"./analysis_report/cmt/output.yaml\"\n",
    "path_bmt_analysis = \"./analysis_report/bmt/output.yaml\"\n",
    "\n",
    "# We will assume that cmt is the app we want to migrate\n",
    "# We will assume that bmt serves as our solved example\n",
    "\n",
    "cmt_report = Report.load_report_from_file(path_cmt_analysis)\n",
    "bmt_report = Report.load_report_from_file(path_bmt_analysis)\n",
    "\n",
    "common_rule_names = find_common_rules(cmt_report, bmt_report, ruleset_name)\n",
    "common_rule_names"
   ]
  },
  {
   "cell_type": "markdown",
   "metadata": {},
   "source": [
    "## Step #3 Define a function to extract the analysis incident metadata"
   ]
  },
  {
   "cell_type": "code",
   "execution_count": 5,
   "metadata": {},
   "outputs": [],
   "source": [
    "def get_incident_data(report, ruleset_name, rule):\n",
    "    return report.report[ruleset_name][\"violations\"][rule]"
   ]
  },
  {
   "cell_type": "markdown",
   "metadata": {},
   "source": [
    "## Step #4: Setup access to the source code in both applications via Git Repos\n"
   ]
  },
  {
   "cell_type": "code",
   "execution_count": 6,
   "metadata": {},
   "outputs": [],
   "source": [
    "from kai.scm import GitDiff\n",
    "\n",
    "##\n",
    "# The App to MIGRATE will be cmt\n",
    "cmt_src_path = \"../../kai_solution_server/samples/sample_repos/cmt\"\n",
    "cmt_diff = GitDiff(cmt_src_path)\n",
    "# Ensure we checked out the 'quarkus' branch of the CMT repo\n",
    "cmt_diff.checkout_branch(\"quarkus\")\n",
    "\n",
    "###\n",
    "# SOLVED EXAMPLE will be bmt\n",
    "###\n",
    "# Setup access to look at the Git repo source code for each sample app\n",
    "bmt_src_path = \"../../kai_solution_server/samples/sample_repos/bmt\"\n",
    "bmt_diff = GitDiff(bmt_src_path)\n",
    "# We checkout the quarkus branch so it's avaialble for us to consult, but we plan to use 'main'\n",
    "bmt_diff.checkout_branch(\"quarkus\")\n",
    "# Ensure we checked out the 'main' branch of the bmt repo\n",
    "bmt_diff.checkout_branch(\"main\")\n",
    "\n",
    "# Now we can extract the info we need\n",
    "## We will assume:\n",
    "## .   cmt will be our source application to migrate, so we will use it's 'main' branch which maps to Java EE\n",
    "## .   bmt will serve as our solved example, so we will consult it's 'quarkus' branch"
   ]
  },
  {
   "cell_type": "markdown",
   "metadata": {},
   "source": [
    "## Step 5: Define function to generate our prompt\n"
   ]
  },
  {
   "cell_type": "code",
   "execution_count": 7,
   "metadata": {},
   "outputs": [],
   "source": [
    "def create_template_args_from_incident(\n",
    "    cmt_report, bmt_report, cmt_diff, bmt_diff, ruleset_name, rule_name\n",
    "):\n",
    "    cmt_incident = get_incident_data(cmt_report, ruleset_name, rule_name)\n",
    "    bmt_incident = get_incident_data(bmt_report, ruleset_name, rule_name)\n",
    "\n",
    "    # We assume that we have at least one incident for each rule\n",
    "    # will only use the first and ignore extras\n",
    "    cmt_entry = cmt_incident[\"incidents\"][0]\n",
    "    print(f\"Using cmt incident: {cmt_entry}\")\n",
    "    src_file_name = cmt_report.get_cleaned_file_path(cmt_entry[\"uri\"])\n",
    "    src_file_contents = cmt_diff.get_file_contents(src_file_name, \"main\")\n",
    "    analysis_message = cmt_entry[\"message\"]\n",
    "    ###\n",
    "    # Note that for a match of 'persistence-to-quarkus-00000' we will NOT have a lineNumber\n",
    "    ###\n",
    "    analysis_lineNumber = cmt_entry.get(\"lineNumber\", \"\")\n",
    "\n",
    "    bmt_entry = bmt_incident[\"incidents\"][0]\n",
    "    solved_example_file_name = bmt_report.get_cleaned_file_path(bmt_entry[\"uri\"])\n",
    "\n",
    "    start_commit_id = bmt_diff.get_commit_from_branch(\"main\").hexsha\n",
    "    end_commit_id = bmt_diff.get_commit_from_branch(\"quarkus\").hexsha\n",
    "\n",
    "    solved_example_diff = bmt_diff.get_patch_for_file(\n",
    "        start_commit_id, end_commit_id, solved_example_file_name\n",
    "    )\n",
    "\n",
    "    template_args = {\n",
    "        \"src_file_name\": src_file_name,\n",
    "        \"src_file_contents\": src_file_contents,\n",
    "        \"analysis_message\": analysis_message,\n",
    "        \"analysis_lineNumber\": analysis_lineNumber,\n",
    "        \"solved_example_file_name\": solved_example_file_name,\n",
    "        \"solved_example_diff\": solved_example_diff,\n",
    "    }\n",
    "    return template_args"
   ]
  },
  {
   "cell_type": "markdown",
   "metadata": {},
   "source": [
    "# Step 6: Run through all the common rule violations"
   ]
  },
  {
   "cell_type": "code",
   "execution_count": 8,
   "metadata": {},
   "outputs": [
    {
     "name": "stderr",
     "output_type": "stream",
     "text": [
      "/Users/jmatthews/git/jwmatthews/kai/env/lib/python3.11/site-packages/langchain_core/_api/deprecation.py:117: LangChainDeprecationWarning: The class `langchain_community.chat_models.openai.ChatOpenAI` was deprecated in langchain-community 0.0.10 and will be removed in 0.2.0. An updated version of the class exists in the langchain-openai package and should be used instead. To use it run `pip install -U langchain-openai` and import as `from langchain_openai import ChatOpenAI`.\n",
      "  warn_deprecated(\n",
      "/Users/jmatthews/git/jwmatthews/kai/env/lib/python3.11/site-packages/langchain_core/_api/deprecation.py:117: LangChainDeprecationWarning: The function `run` was deprecated in LangChain 0.1.0 and will be removed in 0.2.0. Use invoke instead.\n",
      "  warn_deprecated(\n"
     ]
    },
    {
     "name": "stdout",
     "output_type": "stream",
     "text": [
      "Processing rule: persistence-to-quarkus-00000\n",
      "Using cmt incident: {'uri': 'file:///tmp/source-code/src/main/resources/META-INF/persistence.xml', 'message': 'It is recommended to move persistence related configuration from an XML file to a properties one.\\n This allows centralization of the configuration in Quarkus. Check the link for more information.\\n \\n \\n Datasource and persistence configurations in XML can be substituted with a single centralized properties file. Here is an example of a translation:\\n \\n The following datasource configuration:\\n ```\\n <datasources xmlns=\"http://www.jboss.org/ironjacamar/schema\"\\n xmlns:xsi=\"http://www.w3.org/2001/XMLSchema-instance\"\\n xsi:schemaLocation=\"http://www.jboss.org/ironjacamar/schema http://docs.jboss.org/ironjacamar/schema/datasources_1_0.xsd\">\\n <!-- The datasource is bound into JNDI at this location. We reference\\n this in META-INF/persistence.xml -->\\n <datasource jndi-name=\"java:jboss/datasources/TasksJsfQuickstartDS\"\\n pool-name=\"tasks-jsf-quickstart\" enabled=\"true\"\\n use-java-context=\"true\">\\n <connection-url>jdbc:h2:mem:tasks-jsf-quickstart;DB_CLOSE_ON_EXIT=FALSE;DB_CLOSE_DELAY=-1</connection-url>\\n <driver>h2</driver>\\n <security>\\n <user-name>sa</user-name>\\n <password>sa</password>\\n </security>\\n </datasource>\\n </datasources>\\n ```\\n along with the following persistence configuration:\\n ```\\n <persistence version=\"2.1\"\\n xmlns=\"http://xmlns.jcp.org/xml/ns/persistence\" xmlns:xsi=\"http://www.w3.org/2001/XMLSchema-instance\"\\n xsi:schemaLocation=\"\\n http://xmlns.jcp.org/xml/ns/persistence\\n http://xmlns.jcp.org/xml/ns/persistence/persistence_2_1.xsd\">\\n <persistence-unit name=\"primary\">\\n <!-- We use a different datasource for tests, so as to not overwrite\\n production data. This is an unmanaged data source, backed by H2, an in memory\\n database. Production applications should use a managed datasource. -->\\n <!-- The datasource is deployed as WEB-INF/test-ds.xml,\\n you can find it in the source at src/test/resources/test-ds.xml -->\\n <jta-data-source>java:jboss/datasources/TasksJsfQuickstartDS</jta-data-source>\\n <properties>\\n <!-- Properties for Hibernate -->\\n <property name=\"hibernate.hbm2ddl.auto\" value=\"create-drop\" />\\n <property name=\"hibernate.show_sql\" value=\"false\" />\\n </properties>\\n </persistence-unit>\\n </persistence>\\n ```\\n can be translated to:\\n ```\\n quarkus.datasource.jdbc.url=jdbc:h2:mem:tasks-jsf-quickstart;DB_CLOSE_ON_EXIT=FALSE;DB_CLOSE_DELAY=-1\\n quarkus.datasource.db-kind=h2\\n quarkus.datasource.username=sa\\n quarkus.datasource.password=sa\\n\\n quarkus.hibernate-orm.database.generation=drop-and-create\\n ```'}\n",
      "Saved template to output/gpt-4-1106-preview/cmt/kai/quarkus/persistence-to-quarkus-00000/few_shot/template.txt\n",
      "Saved result to output/gpt-4-1106-preview/cmt/kai/quarkus/persistence-to-quarkus-00000/few_shot/result.txt\n",
      "Didn't find a result for language 'java'\n",
      "Saved updated java file to output/gpt-4-1106-preview/cmt/kai/quarkus/persistence-to-quarkus-00000/few_shot/updated_file.java\n",
      "Saved original java file to output/gpt-4-1106-preview/cmt/kai/quarkus/persistence-to-quarkus-00000/few_shot/original_file.java\n",
      "Saved Quarkus version from Git to output/gpt-4-1106-preview/cmt/kai/quarkus/persistence-to-quarkus-00000/few_shot/quarkus_version_from_git.java\n",
      "Completed processing of rule: persistence-to-quarkus-00000\n"
     ]
    }
   ],
   "source": [
    "model_name = \"gpt-4-1106-preview\"\n",
    "# model_name = \"gpt-3.5-turbo-16k\"\n",
    "llm = ChatOpenAI(temperature=0.1, model_name=model_name)\n",
    "\n",
    "# common_rule_names computed in earlier cell\n",
    "for rule_name in common_rule_names:\n",
    "    print(f\"Processing rule: {rule_name}\")\n",
    "    template_args = create_template_args_from_incident(\n",
    "        cmt_report,\n",
    "        bmt_report,\n",
    "        cmt_diff,\n",
    "        bmt_diff,\n",
    "        ruleset_name,\n",
    "        rule_name,\n",
    "    )\n",
    "    formatted_prompt = template_with_solved_example_and_analysis.format(**template_args)\n",
    "    prompt = PromptTemplate.from_template(template_with_solved_example_and_analysis)\n",
    "    chain = LLMChain(llm=llm, prompt=prompt)\n",
    "    result = chain.run(template_args)\n",
    "\n",
    "    src_file_name = template_args[\"src_file_name\"]\n",
    "    src_file_contents = template_args[\"src_file_contents\"]\n",
    "    # For comparison, we will look up what the source file looks like from Quarkus branch\n",
    "    # this serves as a way of comparing to what the 'answer' is that was done manually by a knowledgeable developer\n",
    "    src_file_from_quarkus_branch = bmt_diff.get_file_contents(src_file_name, \"quarkus\")\n",
    "\n",
    "    output_dir = f\"output/{model_name}/cmt/{ruleset_name}/{rule_name}/few_shot/\"\n",
    "    write_output_to_disk(\n",
    "        output_dir,\n",
    "        formatted_prompt,\n",
    "        src_file_contents,\n",
    "        src_file_from_quarkus_branch,\n",
    "        result,\n",
    "    )\n",
    "    print(f\"Completed processing of rule: {rule_name}\")\n",
    "\n",
    "    ###\n",
    "    # TODO: We have some work to do on extracting the result.  This example is a case where\n",
    "    # we are removing the original file (XML file) and we will be creating a new application.properties file\n",
    "    # the parsing logic we have been using for these examples is too simple for this case,\n",
    "    # i.e this isn't a case of updating an existing java file.\n",
    "    ###"
   ]
  },
  {
   "cell_type": "markdown",
   "metadata": {},
   "source": [
    "Should we consider iterating over fixes one at a time?\n"
   ]
  }
 ],
 "metadata": {
  "kernelspec": {
   "display_name": "python3",
   "language": "python",
   "name": "python3"
  },
  "language_info": {
   "codemirror_mode": {
    "name": "ipython",
    "version": 3
   },
   "file_extension": ".py",
   "mimetype": "text/x-python",
   "name": "python",
   "nbconvert_exporter": "python",
   "pygments_lexer": "ipython3",
   "version": "3.11.8"
  }
 },
 "nbformat": 4,
 "nbformat_minor": 4
}
