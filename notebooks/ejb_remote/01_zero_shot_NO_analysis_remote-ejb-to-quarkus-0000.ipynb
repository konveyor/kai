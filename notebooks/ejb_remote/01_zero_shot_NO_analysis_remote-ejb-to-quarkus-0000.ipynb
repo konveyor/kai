{
 "cells": [
  {
   "cell_type": "markdown",
   "metadata": {},
   "source": [
    "# Zero Shot (Simple - no Analyis Info): EJB Remote - Rule: remote-ejb-to-quarkus-0000\n",
    "\n",
    "> This notebook will work with a LLM to generate a fix for a EJB Remote to REST API related rule found in 'ejb-remote'.  We only have 1 sample application for this notebook.\n",
    "\n",
    "> The point of this notebook is to see how well the LLM performs WITHOUT static code analysis information\n",
    "\n",
    "##### Sample Applications Used\n",
    "* 1 sample app from [JBoss EAP Quickstarts](https://github.com/jboss-developer/jboss-eap-quickstarts/tree/7.4.x):  ejb-remote\n",
    "* Christopher May [christophermay07](https://github.com/christophermay07) migrated this application to Quarkus in https://github.com/christophermay07/quarkus-migrations.  \n",
    "* We have created new repositories that contain the original Java EE state in the 'main' branch and Chris' Quarkus migration in the 'quarkus' branch \n",
    "    * [ejb-remote](https://github.com/konveyor-ecosystem/ejb-remote)\n",
    "\n",
    "##### Using Custom Rules for EJB Remote\n",
    "* Rules were developed by Juanma [@jmle](https://github.com/jmle)\n",
    "    * Rules originally from: https://github.com/jmle/kai-examples/blob/main/rules/01-remote-ejb-to-quarkus.windup.yaml"
   ]
  },
  {
   "cell_type": "code",
   "execution_count": 1,
   "metadata": {},
   "outputs": [
    {
     "name": "stdout",
     "output_type": "stream",
     "text": [
      "Obtaining file:///Users/jmatthews/git/jwmatthews/kai\n",
      "  Preparing metadata (setup.py) ... \u001b[?25ldone\n",
      "\u001b[?25hInstalling collected packages: kai\n",
      "  Attempting uninstall: kai\n",
      "    Found existing installation: kai 0.0.1\n",
      "    Uninstalling kai-0.0.1:\n",
      "      Successfully uninstalled kai-0.0.1\n",
      "  Running setup.py develop for kai\n",
      "Successfully installed kai-0.0.1\n"
     ]
    }
   ],
   "source": [
    "# Install local kai package in the current Jupyter kernel\n",
    "import sys\n",
    "\n",
    "!{sys.executable} -m pip install -e ../../"
   ]
  },
  {
   "cell_type": "code",
   "execution_count": 2,
   "metadata": {},
   "outputs": [],
   "source": [
    "# Bring in the common deps\n",
    "import os\n",
    "import pprint\n",
    "\n",
    "from langchain import PromptTemplate\n",
    "from langchain.chat_models import ChatOpenAI\n",
    "from langchain.chains import LLMChain\n",
    "\n",
    "pp = pprint.PrettyPrinter(indent=2)\n",
    "\n",
    "\n",
    "def get_java_in_result(text: str):\n",
    "    languages = [\"java\", \"xml\"]\n",
    "    for lang in languages:\n",
    "        _, updated_file = text.split(f\"## Updated File\")\n",
    "        try:\n",
    "            _, after = updated_file.split(f\"```{lang}\")\n",
    "            return after.split(\"```\")[0]\n",
    "        except ValueError:\n",
    "            # ValueError: not enough values to unpack (expected 2, got 1)\n",
    "            print(f\"Didn't find a result for language '{lang}'\")\n",
    "    print(f\"Unable to find any Java or XML in the result:\\n {text}\")\n",
    "    return \"Failed to extract updated file, this is an error in our client logic not yet handling all edge cases.  We don't consider this a problem with the LLM.\"\n",
    "\n",
    "\n",
    "def write_output_to_disk(\n",
    "    out_dir,\n",
    "    formatted_template,\n",
    "    example_javaee_file_contents,\n",
    "    example_quarkus_file_contents,\n",
    "    result,\n",
    "):\n",
    "    try:\n",
    "        os.makedirs(out_dir, exist_ok=True)\n",
    "    except OSError as error:\n",
    "        print(f\"Error creating directory {out_dir}: {error}\")\n",
    "        raise error\n",
    "\n",
    "    # Save the template to disk\n",
    "    template_path = os.path.join(out_dir, \"template.txt\")\n",
    "    with open(template_path, \"w\") as f:\n",
    "        f.truncate()\n",
    "        f.write(formatted_template)\n",
    "    print(f\"Saved template to {template_path}\")\n",
    "\n",
    "    # Save the result\n",
    "    result_path = os.path.join(out_dir, \"result.txt\")\n",
    "    with open(result_path, \"w\") as f:\n",
    "        f.truncate()\n",
    "        f.write(result)\n",
    "    print(f\"Saved result to {result_path}\")\n",
    "\n",
    "    # Extract the updated java code and save it\n",
    "    updated_file_contents = get_java_in_result(result)\n",
    "    updated_file_path = os.path.join(out_dir, \"updated_file.java\")\n",
    "    with open(updated_file_path, \"w\") as f:\n",
    "        f.truncate()\n",
    "        f.write(updated_file_contents)\n",
    "    print(f\"Saved updated java file to {updated_file_path}\")\n",
    "\n",
    "    # Save the original source code\n",
    "    original_file_path = os.path.join(out_dir, \"original_file.java\")\n",
    "    with open(original_file_path, \"w\") as f:\n",
    "        f.truncate()\n",
    "        f.write(example_javaee_file_contents)\n",
    "    print(f\"Saved original java file to {original_file_path}\")\n",
    "\n",
    "    # Save the Quarkus version we already in Git to use as a comparison\n",
    "    known_quarkus_file_path = os.path.join(out_dir, \"quarkus_version_from_git.java\")\n",
    "    with open(known_quarkus_file_path, \"w\") as f:\n",
    "        f.truncate()\n",
    "        f.write(example_quarkus_file_contents)\n",
    "    print(f\"Saved Quarkus version from Git to {known_quarkus_file_path}\")"
   ]
  },
  {
   "cell_type": "markdown",
   "metadata": {},
   "source": [
    "# Create a Prompt\n",
    "## Step #1:  Create a Prompt Template\n"
   ]
  },
  {
   "cell_type": "code",
   "execution_count": 3,
   "metadata": {},
   "outputs": [],
   "source": [
    "template_with_solved_example_and_analysis = \"\"\"\n",
    "    # Java EE to Quarkus Migration\n",
    "    You are an AI Assistant trained on migrating enterprise JavaEE code to Quarkus.\n",
    "    I will give you an example of a Java EE file and you will give me the Quarkus equivalent.\n",
    "\n",
    "    Approach this code migration from Java EE to Quarkus as if you were an experienced enterprise Java EE developer.\n",
    "    Before attempting to migrate the code to Quarkus, explain each step of your reasoning through what changes \n",
    "    are required and why. \n",
    "\n",
    "    Pay attention to changes you make and impacts to external dependencies in the pom.xml as well as changes \n",
    "    to imports we need to consider.\n",
    "\n",
    "    As you make changes that impact the pom.xml or imports, be sure you explain what needs to be updated.\n",
    "    \n",
    "    After you have shared your step by step thinking, provide a full output of the updated file:\n",
    "\n",
    "    ## Input file name\n",
    "    Filename: \"{src_file_name}\"\n",
    "    \n",
    "    ## Input source code file contents for \"{src_file_name}\"\n",
    "    ```java \n",
    "    {src_file_contents}\n",
    "    ```\n",
    "\n",
    "    # Output Instructions\n",
    "    Structure your ouput in Markdown format such as:\n",
    "\n",
    "    ## Reasoning\n",
    "    Write the step by step reasoning in this markdown section.\n",
    "    If you are unsure of a step or reasoning, clearly state you are unsure and why.\n",
    "\n",
    "    ## Updated File\n",
    "    ```java\n",
    "        Write the updated file for Quarkus in this section\n",
    "    ```\n",
    "   \n",
    "    \"\"\""
   ]
  },
  {
   "cell_type": "markdown",
   "metadata": {},
   "source": [
    "## Step #2: Load the analysis report, just to be sure we are working on the same file name\n"
   ]
  },
  {
   "cell_type": "code",
   "execution_count": 4,
   "metadata": {},
   "outputs": [
    {
     "name": "stdout",
     "output_type": "stream",
     "text": [
      "Reading report from ./analysis_report/ejb-remote/output.yaml\n"
     ]
    }
   ],
   "source": [
    "from kai.report import Report\n",
    "\n",
    "ruleset_name = \"kai/quarkus\"\n",
    "rule_name = \"remote-ejb-to-quarkus-00000\"\n",
    "\n",
    "# Static code analysis was run prior and committed to this repo\n",
    "path_ejb_remote_analysis = \"./analysis_report/ejb-remote/output.yaml\"\n",
    "\n",
    "# We will assume that ejb_remote is the app we want to migrate\n",
    "# We will assume that we do NOT have a solved example for this example\n",
    "\n",
    "ejb_remote_report = Report.load_report_from_file(path_ejb_remote_analysis)"
   ]
  },
  {
   "cell_type": "markdown",
   "metadata": {},
   "source": [
    "## Step #3 Define a function to extract the analysis incident metadata"
   ]
  },
  {
   "cell_type": "code",
   "execution_count": 5,
   "metadata": {},
   "outputs": [],
   "source": [
    "def get_incident_data(report, ruleset_name, rule):\n",
    "    return report.report[ruleset_name][\"violations\"][rule]"
   ]
  },
  {
   "cell_type": "markdown",
   "metadata": {},
   "source": [
    "## Step #4: Setup access to the source code git repos\n"
   ]
  },
  {
   "cell_type": "code",
   "execution_count": 6,
   "metadata": {},
   "outputs": [],
   "source": [
    "from kai.scm import GitDiff\n",
    "\n",
    "##\n",
    "# The App to MIGRATE will be ejb_remote\n",
    "ejb_remote_src_path = \"../../kai_solution_server/samples/sample_repos/ejb-remote\"\n",
    "ejb_remote_diff = GitDiff(ejb_remote_src_path)\n",
    "# Ensure we checked out the 'quarkus' branch of the app's repo\n",
    "# we will use the quarkus branch at end to compare to what the 'answer' is essentially\n",
    "# we don't use it with the LLM, just as a data point for comparison after\n",
    "ejb_remote_diff.checkout_branch(\"quarkus\")\n"
   ]
  },
  {
   "cell_type": "markdown",
   "metadata": {},
   "source": [
    "## Step 5: Create the template args we will pass into our prompt\n"
   ]
  },
  {
   "cell_type": "code",
   "execution_count": 7,
   "metadata": {},
   "outputs": [
    {
     "name": "stdout",
     "output_type": "stream",
     "text": [
      "Using src incident: {'uri': 'file:///tmp/source-code/server-side/src/main/java/org/jboss/as/quickstarts/ejb/remote/stateful/CounterBean.java', 'message': 'Remote EJBs are not supported in Quarkus, and therefore its use must be removed and replaced with REST functionality. In order to do this:\\n 1. Replace the `@Remote` annotation on the class with a `@jakarta.ws.rs.Path(\"<endpoint>\")` annotation. An endpoint must be added to the annotation in place of `<endpoint>` to specify the actual path to the REST service.\\n 2. Remove `@Stateless` annotations if present. Given that REST services are stateless by nature, it makes it unnecessary.\\n 3. For every public method on the EJB being converted, do the following:\\n - Annotate the method with `@jakarta.ws.rs.GET`\\n - Annotate the method with `@jakarta.ws.rs.Path(\"<endpoint>\")` and give it a proper endpoint path. As a rule of thumb, the method name can be used as endpoint, for instance:\\n ```\\n @Path(\"/increment\")\\n public void increment() \\n ```\\n - Add `@jakarta.ws.rs.QueryParam(\"<param-name>\")` to any method parameters if needed, where `<param-name>` is a name for the parameter.', 'codeSnip': '  1  /*\\n  2   * JBoss, Home of Professional Open Source\\n  3   * Copyright 2015, Red Hat, Inc. and/or its affiliates, and individual\\n  4   * contributors by the @authors tag. See the copyright.txt in the\\n  5   * distribution for a full listing of individual contributors.\\n  6   *\\n  7   * Licensed under the Apache License, Version 2.0 (the \"License\");\\n  8   * you may not use this file except in compliance with the License.\\n  9   * You may obtain a copy of the License at\\n 10   * http://www.apache.org/licenses/LICENSE-2.0\\n 11   * Unless required by applicable law or agreed to in writing, software\\n 12   * distributed under the License is distributed on an \"AS IS\" BASIS,\\n 13   * WITHOUT WARRANTIES OR CONDITIONS OF ANY KIND, either express or implied.\\n 14   * See the License for the specific language governing permissions and\\n 15   * limitations under the License.\\n 16   */\\n 17  package org.jboss.as.quickstarts.ejb.remote.stateful;\\n 18  \\n 19  import javax.ejb.Remote;\\n 20  import javax.ejb.Stateful;\\n 21  \\n 22  /**\\n 23   * @author Jaikiran Pai\\n 24   */\\n 25  @Stateful\\n 26  @Remote(RemoteCounter.class)\\n 27  public class CounterBean implements RemoteCounter {\\n 28  \\n 29      private int count = 0;\\n 30  \\n 31      @Override\\n 32      public void increment() {\\n 33          this.count++;\\n 34      }\\n 35  \\n 36      @Override\\n 37      public void decrement() {\\n 38          this.count--;\\n 39      }\\n 40  \\n 41      @Override\\n 42      public int getCount() {\\n 43          return this.count;\\n 44      }\\n 45  }\\n', 'lineNumber': 26, 'variables': {'file': 'file:///tmp/source-code/server-side/src/main/java/org/jboss/as/quickstarts/ejb/remote/stateful/CounterBean.java', 'kind': 'Class', 'name': 'Stateful', 'package': 'org.jboss.as.quickstarts.ejb.remote.stateful'}}\n"
     ]
    }
   ],
   "source": [
    "src_report = ejb_remote_report\n",
    "src_diff = ejb_remote_diff\n",
    "src_incident = get_incident_data(src_report, ruleset_name, rule_name)\n",
    "\n",
    "# We assume that we have at least one incident for each rule\n",
    "# will only use the first and ignore extras\n",
    "src_entry = src_incident[\"incidents\"][0]\n",
    "print(f\"Using src incident: {src_entry}\")\n",
    "src_file_name = src_report.get_cleaned_file_path(src_entry[\"uri\"])\n",
    "src_file_contents = src_diff.get_file_contents(src_file_name, \"main\")\n",
    "###\n",
    "# For this example we do NOT want to include analysis info, the point of this example\n",
    "# is to see what kind of result we get from the LLM without analysis info provided\n",
    "###\n",
    "# analysis_message = src_entry[\"message\"]\n",
    "###\n",
    "# analysis_lineNumber = src_entry.get(\"lineNumber\", \"\")\n",
    "\n",
    "template_args = {\n",
    "    \"src_file_name\": src_file_name,\n",
    "    \"src_file_contents\": src_file_contents,\n",
    "}"
   ]
  },
  {
   "cell_type": "markdown",
   "metadata": {},
   "source": [
    "# Step 6: Run through the incidents we have to generate a fix\n"
   ]
  },
  {
   "cell_type": "code",
   "execution_count": 8,
   "metadata": {},
   "outputs": [
    {
     "name": "stderr",
     "output_type": "stream",
     "text": [
      "/Users/jmatthews/git/jwmatthews/kai/env/lib/python3.11/site-packages/langchain_core/_api/deprecation.py:117: LangChainDeprecationWarning: The class `langchain_community.chat_models.openai.ChatOpenAI` was deprecated in langchain-community 0.0.10 and will be removed in 0.2.0. An updated version of the class exists in the langchain-openai package and should be used instead. To use it run `pip install -U langchain-openai` and import as `from langchain_openai import ChatOpenAI`.\n",
      "  warn_deprecated(\n",
      "/Users/jmatthews/git/jwmatthews/kai/env/lib/python3.11/site-packages/langchain_core/_api/deprecation.py:117: LangChainDeprecationWarning: The function `run` was deprecated in LangChain 0.1.0 and will be removed in 0.2.0. Use invoke instead.\n",
      "  warn_deprecated(\n"
     ]
    },
    {
     "name": "stdout",
     "output_type": "stream",
     "text": [
      "Processing rule: remote-ejb-to-quarkus-00000\n",
      "Saved template to output/gpt-4-1106-preview/ejb_remote/kai/quarkus/remote-ejb-to-quarkus-00000/zero_shot_no_analysis/template.txt\n",
      "Saved result to output/gpt-4-1106-preview/ejb_remote/kai/quarkus/remote-ejb-to-quarkus-00000/zero_shot_no_analysis/result.txt\n",
      "Saved updated java file to output/gpt-4-1106-preview/ejb_remote/kai/quarkus/remote-ejb-to-quarkus-00000/zero_shot_no_analysis/updated_file.java\n",
      "Saved original java file to output/gpt-4-1106-preview/ejb_remote/kai/quarkus/remote-ejb-to-quarkus-00000/zero_shot_no_analysis/original_file.java\n",
      "Saved Quarkus version from Git to output/gpt-4-1106-preview/ejb_remote/kai/quarkus/remote-ejb-to-quarkus-00000/zero_shot_no_analysis/quarkus_version_from_git.java\n",
      "Completed processing of rule: remote-ejb-to-quarkus-00000\n"
     ]
    }
   ],
   "source": [
    "model_name = \"gpt-4-1106-preview\"\n",
    "# model_name = \"gpt-3.5-turbo-16k\"\n",
    "llm = ChatOpenAI(temperature=0.1, model_name=model_name)\n",
    "\n",
    "\n",
    "print(f\"Processing rule: {rule_name}\")\n",
    "formatted_prompt = template_with_solved_example_and_analysis.format(**template_args)\n",
    "prompt = PromptTemplate.from_template(template_with_solved_example_and_analysis)\n",
    "chain = LLMChain(llm=llm, prompt=prompt)\n",
    "result = chain.run(template_args)\n",
    "\n",
    "src_file_name = template_args[\"src_file_name\"]\n",
    "src_file_contents = template_args[\"src_file_contents\"]\n",
    "# For comparison, we will look up what the source file looks like from Quarkus branch\n",
    "# this serves as a way of comparing to what the 'answer' is that was done manually by a knowledgeable developer\n",
    "try:\n",
    "    src_file_from_quarkus_branch = src_diff.get_file_contents(src_file_name, \"quarkus\")\n",
    "except:\n",
    "    # For some cases we will be removing the original file from the quarkus branch\n",
    "    # and creating a different named file, so this naieve approach won't work\n",
    "    # of grabbing the same filename from quarkus branch and assume that \n",
    "    # is the fixed version for comparison\n",
    "    src_file_from_quarkus_branch = \"\"\n",
    "\n",
    "output_dir = f\"output/{model_name}/ejb_remote/{ruleset_name}/{rule_name}/zero_shot_no_analysis/\"\n",
    "write_output_to_disk(\n",
    "    output_dir,\n",
    "    formatted_prompt,\n",
    "    src_file_contents,\n",
    "    src_file_from_quarkus_branch,\n",
    "    result,\n",
    ")\n",
    "print(f\"Completed processing of rule: {rule_name}\")"
   ]
  }
 ],
 "metadata": {
  "kernelspec": {
   "display_name": "python3",
   "language": "python",
   "name": "python3"
  },
  "language_info": {
   "codemirror_mode": {
    "name": "ipython",
    "version": 3
   },
   "file_extension": ".py",
   "mimetype": "text/x-python",
   "name": "python",
   "nbconvert_exporter": "python",
   "pygments_lexer": "ipython3",
   "version": "3.11.8"
  }
 },
 "nbformat": 4,
 "nbformat_minor": 4
}
