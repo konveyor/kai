{
 "cells": [
  {
   "cell_type": "markdown",
   "metadata": {},
   "source": [
    "# Proving the Playpen Agent/CodePlan for Compiler Errors\n",
    "\n",
    "We need prove that the playpen code plan agents workflow will work as expected. This will be a way to run them and make sure that things work as we expect."
   ]
  },
  {
   "cell_type": "markdown",
   "metadata": {},
   "source": [
    "## Setup"
   ]
  },
  {
   "cell_type": "code",
   "execution_count": 4,
   "metadata": {},
   "outputs": [],
   "source": [
    "import pprint\n",
    "\n",
    "pp = pprint.PrettyPrinter(indent=2)"
   ]
  },
  {
   "cell_type": "markdown",
   "metadata": {},
   "source": [
    "## Create the Test Environment\n",
    "\n",
    "For creating the test environment we will:\n",
    "\n",
    "1. move the coolstore to a temp direcotry\n",
    "2. Update the InventoryEntity to use UUID for the itemID as the type."
   ]
  },
  {
   "cell_type": "code",
   "execution_count": 5,
   "metadata": {},
   "outputs": [
    {
     "name": "stderr",
     "output_type": "stream",
     "text": [
      "Cloning into 'coolstore'...\n"
     ]
    },
    {
     "name": "stdout",
     "output_type": "stream",
     "text": [
      "<TemporaryDirectory '/var/folders/vt/5bfp7vyd1h79_7k5ygr0fttr0000gn/T/tmpowrnp22w'>\n"
     ]
    }
   ],
   "source": [
    "import tempfile\n",
    "import shutil\n",
    "import os\n",
    "import subprocess\n",
    "\n",
    "#First we need to download coolstore if it does not exist.\n",
    "\n",
    "if not os.path.exists(\"./coolstore\"):\n",
    "    subprocess.run(\"../../example/fetch.sh\")\n",
    "\n",
    "if not os.path.exists(\"../../kai-analyzer/kai-analyzer\"):\n",
    "    subprocess.run([\"go\", \"build\", \"-o\", \"kai-analyzer\", \"main.go\"], cwd=\"../../kai-analyzer\")\n",
    "\n",
    "temp_dir = tempfile.TemporaryDirectory()\n",
    "coolstore_path = os.path.join(temp_dir.name, \"coolstore\")\n",
    "shutil.copytree(\"./coolstore\", coolstore_path)\n",
    "\n",
    "## make the necessary change\n",
    "\n",
    "print(temp_dir)\n"
   ]
  },
  {
   "cell_type": "markdown",
   "metadata": {},
   "source": [
    "## Set up the Code Plan types and run code plan."
   ]
  },
  {
   "cell_type": "code",
   "execution_count": 7,
   "metadata": {},
   "outputs": [
    {
     "ename": "TypeError",
     "evalue": "RpcClientConfig.__init__() takes 7 positional arguments but 9 were given",
     "output_type": "error",
     "traceback": [
      "\u001b[0;31m---------------------------------------------------------------------------\u001b[0m",
      "\u001b[0;31mTypeError\u001b[0m                                 Traceback (most recent call last)",
      "Cell \u001b[0;32mIn[7], line 11\u001b[0m\n\u001b[1;32m      7\u001b[0m \u001b[38;5;28;01mfrom\u001b[39;00m \u001b[38;5;21;01mkai\u001b[39;00m\u001b[38;5;21;01m.\u001b[39;00m\u001b[38;5;21;01mmodels\u001b[39;00m\u001b[38;5;21;01m.\u001b[39;00m\u001b[38;5;21;01mkai_config\u001b[39;00m \u001b[38;5;28;01mimport\u001b[39;00m KaiConfig\n\u001b[1;32m      8\u001b[0m \u001b[38;5;28;01mfrom\u001b[39;00m \u001b[38;5;21;01mplaypen\u001b[39;00m\u001b[38;5;21;01m.\u001b[39;00m\u001b[38;5;21;01mrepo_level_awareness\u001b[39;00m\u001b[38;5;21;01m.\u001b[39;00m\u001b[38;5;21;01mvfs\u001b[39;00m\u001b[38;5;21;01m.\u001b[39;00m\u001b[38;5;21;01mgit_vfs\u001b[39;00m \u001b[38;5;28;01mimport\u001b[39;00m RepoContextManager\n\u001b[0;32m---> 11\u001b[0m config \u001b[38;5;241m=\u001b[39m \u001b[43mRpcClientConfig\u001b[49m\u001b[43m(\u001b[49m\u001b[43mPath\u001b[49m\u001b[43m(\u001b[49m\u001b[43mcoolstore_path\u001b[49m\u001b[43m)\u001b[49m\u001b[43m,\u001b[49m\n\u001b[1;32m     12\u001b[0m \u001b[43m                         \u001b[49m\u001b[38;5;124;43m\"\u001b[39;49m\u001b[38;5;124;43m../../kai-analyzer/kai-analyzer\u001b[39;49m\u001b[38;5;124;43m\"\u001b[39;49m\u001b[43m,\u001b[49m\n\u001b[1;32m     13\u001b[0m \u001b[43m                         \u001b[49m\u001b[38;5;124;43m\"\u001b[39;49m\u001b[38;5;124;43m/Users/shurley/repos/MTA/rulesets/default/generated\u001b[39;49m\u001b[38;5;124;43m\"\u001b[39;49m\u001b[43m,\u001b[49m\n\u001b[1;32m     14\u001b[0m \u001b[43m                         \u001b[49m\u001b[43mPath\u001b[49m\u001b[43m(\u001b[49m\u001b[38;5;124;43m\"\u001b[39;49m\u001b[38;5;124;43m/Users/shurley/repos/kai/jdtls/bin/jdtls\u001b[39;49m\u001b[38;5;124;43m\"\u001b[39;49m\u001b[43m)\u001b[49m\u001b[43m,\u001b[49m\n\u001b[1;32m     15\u001b[0m \u001b[43m                         \u001b[49m\u001b[43mPath\u001b[49m\u001b[43m(\u001b[49m\u001b[38;5;124;43m\"\u001b[39;49m\u001b[38;5;124;43m./java-bundle/java-analyzer-bundle.core-1.0.0-SNAPSHOT.jar\u001b[39;49m\u001b[38;5;124;43m\"\u001b[39;49m\u001b[43m)\u001b[49m\u001b[43m,\u001b[49m\n\u001b[1;32m     16\u001b[0m \u001b[43m                         \u001b[49m\u001b[38;5;124;43m\"\u001b[39;49m\u001b[38;5;124;43mkonveyor.io/target=quarkus\u001b[39;49m\u001b[38;5;124;43m\"\u001b[39;49m\u001b[43m,\u001b[49m\n\u001b[1;32m     17\u001b[0m \u001b[43m                         \u001b[49m\u001b[38;5;28;43;01mNone\u001b[39;49;00m\u001b[43m,\u001b[49m\n\u001b[1;32m     18\u001b[0m \u001b[43m                         \u001b[49m\u001b[38;5;28;43;01mNone\u001b[39;49;00m\u001b[43m)\u001b[49m\n\u001b[1;32m     20\u001b[0m kai_config \u001b[38;5;241m=\u001b[39m KaiConfig\u001b[38;5;241m.\u001b[39mmodel_validate_filepath(\u001b[38;5;124m\"\u001b[39m\u001b[38;5;124m../../kai/config.toml\u001b[39m\u001b[38;5;124m\"\u001b[39m)\n\u001b[1;32m     21\u001b[0m modelProvider \u001b[38;5;241m=\u001b[39m ModelProvider(kai_config\u001b[38;5;241m.\u001b[39mmodels)\n",
      "\u001b[0;31mTypeError\u001b[0m: RpcClientConfig.__init__() takes 7 positional arguments but 9 were given"
     ]
    }
   ],
   "source": [
    "from pathlib import Path\n",
    "from playpen.repo_level_awareness.api import RpcClientConfig\n",
    "from playpen.repo_level_awareness.codeplan import TaskManager\n",
    "from playpen.repo_level_awareness.task_runner.analyzer_lsp.validator import AnlayzerLSPStep\n",
    "from playpen.repo_level_awareness.task_runner.analyzer_lsp.task_runner import AnalyzerTaskRunner\n",
    "from kai.service.llm_interfacing.model_provider import ModelProvider\n",
    "from kai.models.kai_config import KaiConfig\n",
    "from playpen.repo_level_awareness.vfs.git_vfs import RepoContextManager\n",
    "\n",
    "\n",
    "config = RpcClientConfig(Path(coolstore_path),\n",
    "                         \"../../kai-analyzer/kai-analyzer\",\n",
    "                         \"/Users/shurley/repos/MTA/rulesets/default/generated\",\n",
    "                         Path(\"/Users/shurley/repos/kai/jdtls/bin/jdtls\"),\n",
    "                         Path(\"./java-bundle/java-analyzer-bundle.core-1.0.0-SNAPSHOT.jar\"),\n",
    "                         \"konveyor.io/target=quarkus\",\n",
    "                         None,\n",
    "                         None)\n",
    "\n",
    "kai_config = KaiConfig.model_validate_filepath(\"../../kai/config.toml\")\n",
    "modelProvider = ModelProvider(kai_config.models)\n",
    "rcm = RepoContextManager(config.repo_directory, modelProvider.llm)\n",
    "\n",
    "\n",
    "agent = AnalyzerTaskRunner(modelProvider.llm)\n",
    "\n",
    "task_manager = TaskManager(\n",
    "        config,\n",
    "        rcm,\n",
    "        None,\n",
    "        validators=[AnlayzerLSPStep(config)],\n",
    "        agents=[agent],\n",
    "    )\n",
    "\n",
    "\n",
    "for task in task_manager.get_next_task():\n",
    "    pp.pprint(task)\n",
    "    task_manager.supply_result(task_manager.execute_task(task))"
   ]
  },
  {
   "cell_type": "markdown",
   "metadata": {},
   "source": [
    "## Cleanup temp dir"
   ]
  },
  {
   "cell_type": "code",
   "execution_count": 10,
   "metadata": {},
   "outputs": [],
   "source": [
    "temp_dir.cleanup()"
   ]
  }
 ],
 "metadata": {
  "kernelspec": {
   "display_name": "env",
   "language": "python",
   "name": "python3"
  },
  "language_info": {
   "codemirror_mode": {
    "name": "ipython",
    "version": 3
   },
   "file_extension": ".py",
   "mimetype": "text/x-python",
   "name": "python",
   "nbconvert_exporter": "python",
   "pygments_lexer": "ipython3",
   "version": "3.12.6"
  }
 },
 "nbformat": 4,
 "nbformat_minor": 4
}
