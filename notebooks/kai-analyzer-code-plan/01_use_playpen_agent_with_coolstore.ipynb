{
 "cells": [
  {
   "cell_type": "markdown",
   "metadata": {},
   "source": [
    "# Proving the Playpen Agent/CodePlan for Compiler Errors\n",
    "\n",
    "We need prove that the playpen code plan agents workflow will work as expected. This will be a way to run them and make sure that things work as we expect."
   ]
  },
  {
   "cell_type": "markdown",
   "metadata": {},
   "source": [
    "## Setup"
   ]
  },
  {
   "cell_type": "code",
   "execution_count": 1,
   "metadata": {},
   "outputs": [],
   "source": [
    "# Need to make sure that XML tree can use the new parser\n",
    "import sys\n",
    "\n",
    "sys.modules['_elementtree'] = None\n",
    "import pprint\n",
    "\n",
    "pp = pprint.PrettyPrinter(indent=2)"
   ]
  },
  {
   "cell_type": "markdown",
   "metadata": {},
   "source": [
    "## Create the Test Environment\n",
    "\n",
    "For creating the test environment we will:\n",
    "\n",
    "1. move the coolstore to a temp direcotry\n",
    "2. Update the InventoryEntity to use UUID for the itemID as the type."
   ]
  },
  {
   "cell_type": "code",
   "execution_count": null,
   "metadata": {},
   "outputs": [],
   "source": [
    "import tempfile\n",
    "import shutil\n",
    "import os\n",
    "import subprocess\n",
    "\n",
    "#First we need to download coolstore if it does not exist.\n",
    "\n",
    "if not os.path.exists(\"./coolstore\"):\n",
    "    subprocess.run(\"../../example/fetch.sh\")\n",
    "\n",
    "if not os.path.exists(\"../../kaianalyzer/kai-analyzer\"):\n",
    "    subprocess.run([\"go\", \"build\", \"-o\", \"kai_analyzer_rpc\", \"main.go\"], cwd=\"../../kai_analyzer_rpc\")\n",
    "\n",
    "# NOTE(JonahSussman): Python's default tmp dir gets clobbered somehow on my\n",
    "# machine, so putting it in local directory for now.\n",
    "temp_dir = tempfile.TemporaryDirectory(prefix=\"tmp-\")\n",
    "coolstore_path = os.path.join(temp_dir.name, \"coolstore\")\n",
    "shutil.copytree(\"./coolstore\", coolstore_path)\n",
    "\n",
    "## make the necessary change\n",
    "\n",
    "print(temp_dir)\n"
   ]
  },
  {
   "cell_type": "markdown",
   "metadata": {},
   "source": [
    "## Set up the Code Plan types and run code plan."
   ]
  },
  {
   "cell_type": "code",
   "execution_count": null,
   "metadata": {},
   "outputs": [],
   "source": [
    "from pathlib import Path\n",
    "from kai.reactive_codeplanner.task_manager.api import RpcClientConfig\n",
    "from kai.reactive_codeplanner.task_manager.task_manager import TaskManager\n",
    "from kai.reactive_codeplanner.task_runner.analyzer_lsp.validator import AnalyzerLSPStep, AnalyzerLSPStep\n",
    "from kai.reactive_codeplanner.task_runner.analyzer_lsp.task_runner import AnalyzerTaskRunner\n",
    "from kai.reactive_codeplanner.task_runner.compiler.maven_validator import MavenCompileStep\n",
    "from kai.reactive_codeplanner.task_runner.compiler.compiler_task_runner import MavenCompilerTaskRunner\n",
    "from kai.reactive_codeplanner.task_runner.dependency.task_runner import DependencyTaskRunner\n",
    "from kai.reactive_codeplanner.agent.dependency_agent.dependency_agent import MavenDependencyAgent\n",
    "from kai.analyzer_types import Incident, RuleSet, Violation, Category\n",
    "from kai_solution_server.service.llm_interfacing.model_provider import ModelProvider\n",
    "from kai.kai_config import KaiConfig\n",
    "from kai.reactive_codeplanner.vfs.git_vfs import RepoContextManager\n",
    "import logging\n",
    "from kai.reactive_codeplanner.task_runner.analyzer_lsp.api import AnalyzerDependencyRuleViolation, AnalyzerRuleViolation\n",
    "\n",
    "logging.basicConfig(level=logging.DEBUG)\n",
    "logging.getLogger('httpx').setLevel(logging.WARNING)\n",
    "logging.getLogger('httpcore').setLevel(logging.WARNING)\n",
    "logging.getLogger('genai.extensions.langchain.chat_llm').setLevel(logging.WARNING)\n",
    "\n",
    "config = RpcClientConfig(Path(coolstore_path),\n",
    "                         \"../../kai_analyzer_rpc/kai_analyzer_rpc\",\n",
    "                         \"/Users/shurley/repos/MTA/rulesets/default/generated\",\n",
    "                         Path(\"/Users/shurley/repos/kai/jdtls/bin/jdtls\"),\n",
    "                         Path(\"./java-bundle/java-analyzer-bundle.core-1.0.0-SNAPSHOT.jar\"),\n",
    "                         \"konveyor.io/target=quarkus || konveyor.io/target=jakarta-ee\",\n",
    "                         None,\n",
    "                         None)\n",
    "kai_config = KaiConfig.model_validate_filepath(\"./01_config.toml\")\n",
    "modelProvider = ModelProvider(kai_config.models)\n",
    "rcm = RepoContextManager(config.repo_directory, modelProvider.llm)\n",
    "\n",
    "maven_dependency_agent = MavenDependencyAgent(modelProvider.llm, config.repo_directory)\n",
    "\n",
    "\n",
    "anayzer_task_runner= AnalyzerTaskRunner(modelProvider.llm)\n",
    "maven_compiler_task_runner= MavenCompilerTaskRunner(modelProvider.llm)\n",
    "dependency_task_runner = DependencyTaskRunner(maven_dependency_agent)\n",
    "\n",
    "# Define the initial task, to prove out the solving of a single incident:\n",
    "\n",
    "path = os.path.join(coolstore_path, 'src/main/java/com/redhat/coolstore/service/ShippingService.java')\n",
    "print(path)\n",
    "\n",
    "incident = Incident(\n",
    "    uri='file://'+path,\n",
    "    message='Remote EJBs are not supported in Quarkus, and therefore its use must be removed and replaced with REST functionality. In order to do this:\\n 1. Replace the `@Remote` annotation on the class with a `@jakarta.ws.rs.Path(\"<endpoint>\")` annotation. An endpoint must be added to the annotation in place of `<endpoint>` to specify the actual path to the REST service.\\n 2. Remove `@Stateless` annotations if present. Given that REST services are stateless by nature, it makes it unnecessary.\\n 3. For every public method on the EJB being converted, do the following:\\n - In case the method has no input parameters, annotate the method with `@jakarta.ws.rs.GET`; otherwise annotate it with `@jakarta.ws.rs.POST` instead.\\n - Annotate the method with `@jakarta.ws.rs.Path(\"<endpoint>\")` and give it a proper endpoint path. As a rule of thumb, the method name can be used as endpoint, for instance:\\n ```\\n @Path(\"/increment\")\\n public void increment() \\n ```\\n - Add `@jakarta.ws.rs.QueryParam(\"<param-name>\")` to any method parameters if needed, where `<param-name>` is a name for the parameter.',\n",
    "    code_snip=' 2  \\n 3  import java.math.BigDecimal;\\n 4  import java.math.RoundingMode;\\n 5  \\n 6  import javax.ejb.Remote;\\n 7  import javax.ejb.Stateless;\\n 8  \\n 9  import com.redhat.coolstore.model.ShoppingCart;\\n10  \\n11  @Stateless\\n12  @Remote\\n13  public class ShippingService implements ShippingServiceRemote {\\n14  \\n15      @Override\\n16      public double calculateShipping(ShoppingCart sc) {\\n17  \\n18          if (sc != null) {\\n19  \\n20              if (sc.getCartItemTotal() >= 0 && sc.getCartItemTotal() < 25) {\\n21  \\n22                  return 2.99;',\n",
    "    line_number=12,\n",
    "    variables={'file': 'file:///private/var/folders/vt/5bfp7vyd1h79_7k5ygr0fttr0000gn/T/tmpthgg63up/coolstore/src/main/java/com/redhat/coolstore/service/ShippingService.java', 'kind': 'Class', 'name': 'Stateless', 'package': 'com.redhat.coolstore.service'},\n",
    ")\n",
    "\n",
    "ruleset = RuleSet(\n",
    "    name='quarkus/springboot',\n",
    "    description='This ruleset gives hints to migrate from SpringBoot devtools to Quarkus',\n",
    "    tags=None,\n",
    "    violations={},\n",
    "    errors=None,\n",
    "    unmatched=None,\n",
    "    skipped=None,\n",
    ")\n",
    "\n",
    "violation = Violation(\n",
    "    description='Remote EJBs are not supported in Quarkus',\n",
    "    category=Category.MANDATORY,\n",
    "    labels=['konveyor.io/source=java-ee', 'konveyor.io/source=jakarta-ee', 'konveyor.io/target=quarkus'],\n",
    ")\n",
    "\n",
    "seed_task = AnalyzerRuleViolation(\n",
    "    file=path,\n",
    "    line=incident.line_number,\n",
    "    column=None,\n",
    "    message=incident.message,\n",
    "    incident=incident,\n",
    "    violation=violation,\n",
    "    ruleset=ruleset,\n",
    ")\n",
    "\n",
    "# TODO: Use seed_tasks argument to supply initial task to the task_manager\n",
    "task_manager = TaskManager(\n",
    "        config,\n",
    "        rcm,\n",
    "        [seed_task],\n",
    "        # TODO: Set up with maven as well?\n",
    "        validators=[AnalyzerLSPStep(config), MavenCompileStep(config)],\n",
    "        # Agents are really task_runners\n",
    "        agents=[anayzer_task_runner, maven_compiler_task_runner, dependency_task_runner],\n",
    "    )\n",
    "\n",
    "\n",
    "# TODO: Make this get_next_task(max_priority=0) to only grab seeded tasks\n",
    "# Can also do: \n",
    "#   initial_task = task_manager.get_next_task(max_priority=0)\n",
    "#   ...\n",
    "#   task_manager.supply_result(task_manager.execute_task(initial_task)\n",
    "#   follow_up_task = task_manager.get_next_task(max_priority=0)\n",
    "#   # do whatever to show what followup is\n",
    "#   task_manager.supply_result(task_manager.execute_task(follow_up_task)\n",
    "# etc ...\n",
    "# can  introspect the stack using task_manager.task_stacks\n",
    "# priority 0 tasks will be accessible with task_manager.task_stacks.get(0)\n",
    "# So can see all the new tasks that are spawned and how that stack changes as we progress\n",
    "# as well as showing all the tasks in the stack if we want to show all the work that's been detected in general\n",
    "# Can do that with task_manager.task_stacks.values() -> list of lists of tasks associated with each priority level\n",
    "\n",
    "i = 0\n",
    "for task in task_manager.get_next_task(max_priority=0):\n",
    "    if i > 1:\n",
    "        break\n",
    "    print(f\"main loop: got task: {task}\")\n",
    "    result = task_manager.execute_task(task)\n",
    "    print(f\"main loop: got result: {result}\")\n",
    "    task_manager.supply_result(result)\n",
    "    i += 1"
   ]
  },
  {
   "cell_type": "markdown",
   "metadata": {},
   "source": []
  },
  {
   "cell_type": "code",
   "execution_count": null,
   "metadata": {},
   "outputs": [],
   "source": [
    "#verify that the java file has been updated.\n",
    "\n",
    "import filecmp\n",
    "\n",
    "diff = rcm.snapshot.diff(rcm.first_snapshot)\n",
    "\n",
    "print(diff[1])\n",
    "\n",
    "r = filecmp.cmp(coolstore_path+\"/pom.xml\", \"./test-data/pom.xml\")\n",
    "print(r)\n"
   ]
  },
  {
   "cell_type": "markdown",
   "metadata": {},
   "source": [
    "## Cleanup temp dir"
   ]
  },
  {
   "cell_type": "code",
   "execution_count": null,
   "metadata": {},
   "outputs": [],
   "source": [
    "temp_dir.cleanup()"
   ]
  }
 ],
 "metadata": {
  "kernelspec": {
   "display_name": "env",
   "language": "python",
   "name": "python3"
  },
  "language_info": {
   "codemirror_mode": {
    "name": "ipython",
    "version": 3
   },
   "file_extension": ".py",
   "mimetype": "text/x-python",
   "name": "python",
   "nbconvert_exporter": "python",
   "pygments_lexer": "ipython3",
   "version": "3.12.6"
  }
 },
 "nbformat": 4,
 "nbformat_minor": 4
}
