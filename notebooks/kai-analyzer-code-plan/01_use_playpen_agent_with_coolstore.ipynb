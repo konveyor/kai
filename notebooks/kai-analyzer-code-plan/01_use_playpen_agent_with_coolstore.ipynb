{
 "cells": [
  {
   "cell_type": "markdown",
   "metadata": {},
   "source": [
    "# Proving the Playpen Agent/CodePlan for Compiler Errors\n",
    "\n",
    "We need prove that the playpen code plan agents workflow will work as expected. This will be a way to run them and make sure that things work as we expect."
   ]
  },
  {
   "cell_type": "markdown",
   "metadata": {},
   "source": [
    "## Setup"
   ]
  },
  {
   "cell_type": "code",
   "execution_count": null,
   "metadata": {},
   "outputs": [],
   "source": [
    "import pprint\n",
    "\n",
    "pp = pprint.PrettyPrinter(indent=2)"
   ]
  },
  {
   "cell_type": "markdown",
   "metadata": {},
   "source": [
    "## Create the Test Environment\n",
    "\n",
    "For creating the test environment we will:\n",
    "\n",
    "1. move the coolstore to a temp direcotry\n",
    "2. Update the InventoryEntity to use UUID for the itemID as the type."
   ]
  },
  {
   "cell_type": "code",
   "execution_count": null,
   "metadata": {},
   "outputs": [],
   "source": [
    "import tempfile\n",
    "import shutil\n",
    "import os\n",
    "import subprocess\n",
    "\n",
    "#First we need to download coolstore if it does not exist.\n",
    "\n",
    "if not os.path.exists(\"./coolstore\"):\n",
    "    subprocess.run(\"../../example/fetch.sh\")\n",
    "\n",
    "if not os.path.exists(\"../../kai-analyzer/kai-analyzer\"):\n",
    "    subprocess.run([\"go\", \"build\", \"-o\", \"kai-analyzer\", \"main.go\"], cwd=\"../../kai-analyzer\")\n",
    "\n",
    "temp_dir = tempfile.TemporaryDirectory()\n",
    "coolstore_path = os.path.join(temp_dir.name, \"coolstore\")\n",
    "shutil.copytree(\"./coolstore\", coolstore_path)\n",
    "\n",
    "## make the necessary change\n",
    "\n",
    "print(temp_dir)\n"
   ]
  },
  {
   "cell_type": "markdown",
   "metadata": {},
   "source": [
    "## Set up the Code Plan types and run code plan."
   ]
  },
  {
   "cell_type": "code",
   "execution_count": null,
   "metadata": {},
   "outputs": [],
   "source": [
    "from pathlib import Path\n",
    "from playpen.repo_level_awareness.api import RpcClientConfig\n",
    "from playpen.repo_level_awareness.codeplan import TaskManager\n",
    "from playpen.repo_level_awareness.task_runner.analyzer_lsp.validator import AnlayzerLSPStep\n",
    "from playpen.repo_level_awareness.task_runner.analyzer_lsp.task_runner import AnalyzerTaskRunner\n",
    "from kai.service.llm_interfacing.model_provider import ModelProvider\n",
    "from kai.models.kai_config import KaiConfig\n",
    "from playpen.repo_level_awareness.vfs.git_vfs import RepoContextManager\n",
    "import logging\n",
    "\n",
    "logging.basicConfig(level=logging.DEBUG)\n",
    "logging.getLogger('httpx').setLevel(logging.WARNING)\n",
    "logging.getLogger('httpcore').setLevel(logging.WARNING)\n",
    "logging.getLogger('genai.extensions.langchain.chat_llm').setLevel(logging.WARNING)\n",
    "\n",
    "config = RpcClientConfig(Path(coolstore_path),\n",
    "                         \"../../kai-analyzer/kai-analyzer\",\n",
    "                         \"/home/fabian/projects/github.com/konveyor/rulesets/default/generated\",\n",
    "                         Path(\"/home/fabian/fabian/.vscode/extensions/redhat.java-1.30.0-linux-x64/server/bin/jdtls\"),\n",
    "                         Path(\"./java-bundle/java-analyzer-bundle.core-1.0.0-SNAPSHOT.jar\"),\n",
    "                         \"konveyor.io/target=quarkus\",\n",
    "                         None,\n",
    "                         None)\n",
    "\n",
    "kai_config = KaiConfig.model_validate_filepath(\"../../kai/config.toml\")\n",
    "modelProvider = ModelProvider(kai_config.models)\n",
    "rcm = RepoContextManager(config.repo_directory, modelProvider.llm)\n",
    "\n",
    "\n",
    "agent = AnalyzerTaskRunner(modelProvider.llm)\n",
    "\n",
    "# TODO: Use seed_tasks argument to supply initial task to the task_manager\n",
    "task_manager = TaskManager(\n",
    "        config,\n",
    "        rcm,\n",
    "        None,\n",
    "        # TODO: Set up with maven as well?\n",
    "        validators=[AnlayzerLSPStep(config)],\n",
    "        agents=[agent],\n",
    "    )\n",
    "\n",
    "\n",
    "# TODO: Make this get_next_task(max_priority=0) to only grab seeded tasks\n",
    "# Can also do: \n",
    "#   initial_task = task_manager.get_next_task(max_priority=0)\n",
    "#   ...\n",
    "#   task_manager.supply_result(task_manager.execute_task(initial_task)\n",
    "#   follow_up_task = task_manager.get_next_task(max_priority=0)\n",
    "#   # do whatever to show what followup is\n",
    "#   task_manager.supply_result(task_manager.execute_task(follow_up_task)\n",
    "# etc ...\n",
    "# can  introspect the stack using task_manager.task_stacks\n",
    "# priority 0 tasks will be accessible with task_manager.task_stacks.get(0)\n",
    "# So can see all the new tasks that are spawned and how that stack changes as we progress\n",
    "# as well as showing all the tasks in the stack if we want to show all the work that's been detected in general\n",
    "# Can do that with task_manager.task_stacks.values() -> list of lists of tasks associated with each priority level\n",
    "for task in task_manager.get_next_task():\n",
    "    task_manager.supply_result(task_manager.execute_task(task))"
   ]
  },
  {
   "cell_type": "markdown",
   "metadata": {},
   "source": [
    "## Cleanup temp dir"
   ]
  },
  {
   "cell_type": "code",
   "execution_count": null,
   "metadata": {},
   "outputs": [],
   "source": [
    "temp_dir.cleanup()"
   ]
  }
 ],
 "metadata": {
  "kernelspec": {
   "display_name": "Python 3 (ipykernel)",
   "language": "python",
   "name": "python3"
  },
  "language_info": {
   "codemirror_mode": {
    "name": "ipython",
    "version": 3
   },
   "file_extension": ".py",
   "mimetype": "text/x-python",
   "name": "python",
   "nbconvert_exporter": "python",
   "pygments_lexer": "ipython3",
   "version": "3.12.5"
  }
 },
 "nbformat": 4,
 "nbformat_minor": 4
}
