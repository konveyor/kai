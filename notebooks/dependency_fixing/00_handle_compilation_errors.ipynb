{
 "cells": [
  {
   "cell_type": "markdown",
   "metadata": {},
   "source": [
    "# Handle Maven dependency issues\n",
    "\n",
    "Explore using the task runner, to handle both maven compiler errors when dependencies are missing, and a specific task from the analyzer-lsp validator"
   ]
  },
  {
   "cell_type": "markdown",
   "metadata": {},
   "source": [
    "## Setting up the environment"
   ]
  },
  {
   "cell_type": "code",
   "execution_count": 1,
   "metadata": {},
   "outputs": [],
   "source": [
    "import pprint\n",
    "\n",
    "pp = pprint.PrettyPrinter(indent=2)"
   ]
  },
  {
   "cell_type": "markdown",
   "metadata": {},
   "source": [
    "## Create the Test Environment\n",
    "\n",
    "For creating the test environment we will:\n",
    "\n",
    "1. move the coolstore to a temp direcotry\n",
    "2. Update the InventoryEntity to use UUID for the itemID as the type."
   ]
  },
  {
   "cell_type": "code",
   "execution_count": 2,
   "metadata": {},
   "outputs": [
    {
     "name": "stdout",
     "output_type": "stream",
     "text": [
      "<TemporaryDirectory '/var/folders/vt/5bfp7vyd1h79_7k5ygr0fttr0000gn/T/tmpqdcjrh3t'>\n"
     ]
    }
   ],
   "source": [
    "import tempfile\n",
    "import shutil\n",
    "import os\n",
    "import subprocess\n",
    "\n",
    "#First we need to download coolstore if it does not exist.\n",
    "\n",
    "if not os.path.exists(\"./coolstore\"):\n",
    "    subprocess.run(\"../../example/fetch.sh\")\n",
    "\n",
    "temp_dir = tempfile.TemporaryDirectory()\n",
    "coolstore_path = os.path.join(temp_dir.name, \"coolstore\")\n",
    "shutil.copytree(\"./coolstore\", coolstore_path)\n",
    "\n",
    "## make the necessary change\n",
    "shutil.copyfile(\"./testing_pom_changes/pom.xml\", f\"{coolstore_path}/pom.xml\")\n",
    "print(temp_dir)\n"
   ]
  },
  {
   "cell_type": "markdown",
   "metadata": {},
   "source": [
    "## Testing for Dependency issue with coolstore missing a dependencies\n",
    "\n",
    "This will test that removed dependency is re-added "
   ]
  },
  {
   "cell_type": "code",
   "execution_count": 3,
   "metadata": {},
   "outputs": [
    {
     "name": "stdout",
     "output_type": "stream",
     "text": [
      "100\n",
      "PackageDoesNotExistError(file='/private/var/folders/vt/5bfp7vyd1h79_7k5ygr0fttr0000gn/T/tmpqdcjrh3t/coolstore/src/main/java/com/redhat/coolstore/utils/DataBaseMigrationStartup.java',\n",
      "                         line=6,\n",
      "                         column=24,\n",
      "                         message='package javax.annotation does not exist',\n",
      "                         details=[],\n",
      "                         parse_lines='[ERROR] '\n",
      "                                     '/private/var/folders/vt/5bfp7vyd1h79_7k5ygr0fttr0000gn/T/tmpqdcjrh3t/coolstore/src/main/java/com/redhat/coolstore/utils/DataBaseMigrationStartup.java:[6,24] '\n",
      "                                     'package javax.annotation does not exist',\n",
      "                         missing_package='javax.annotation')\n",
      "_llm_response(actions=[_action(code='result = search_fqdn.run(artifact_id=\"javax.annotation\", group_id=\"javax.annotation\")', thought=' The error message indicates that the Maven compiler is unable to find the javax.annotation package, which suggests that the dependency for javax.annotation is missing or outdated.', observation=' We now have the fully qualified domain name (FQDN) for the javax.annotation dependency, including the groupId, artifactId, and version.'), _action(code='start_line, end_line = find_in_pom._run(relative_file_path=\"pom.xml\", keywords={\"groupId\": \"javax.annotation\", \"artifactId\": \"javax.annotation\"})', thought=' Now that we have the FQDN, we need to find where the dependency is declared in the pom.xml file.', observation=' We now have the start and end line numbers of the javax.annotation dependency declaration in the pom.xml file.'), _action(code='xml = f\"<dependency><groupId>{result.groupId}</groupId><artifactId>{result.artifactId}</artifactId><version>{result.version}</version></dependency>\"\\nresult = editor._run(relative_file_path=\"pom.xml\", start_line=start_line, end_line=end_line, patch=xml)', thought=' Now that we have the start and end line numbers, we can update the dependency declaration with the correct FQDN.', observation=' The pom.xml file is now updated with the correct javax.annotation dependency declaration.')], final_answer='Updated the pom.xml file by adding the javax.annotation dependency with the correct FQDN, resolving the Maven compiler error.')\n",
      "<function search_fqdn at 0x132168040>\n",
      "result = search_fqdn.run(artifact_id=\"javax.annotation\", group_id=\"javax.annotation\") -- 24 -- 84 -- (artifact_id=\"javax.annotation\", group_id=\"javax.annotation\" -- ['(artifact_id=\"javax.annotation\"', ' group_id=\"javax.annotation\"']\n",
      "\n",
      "\n",
      "kwargs - {'artifact_id': 'javax.annotation', 'group_id': 'javax.annotation'}\n",
      "query-a:javax.annotation AND g:javax.annotation\n",
      "content: b'{\"responseHeader\":{\"status\":0,\"QTime\":1,\"params\":{\"q\":[\"a:javax.annotation\",\"g:javax.annotation\"],\"core\":\"\",\"indent\":\"off\",\"spellcheck\":\"true\",\"fl\":\"id,g,a,latestVersion,p,ec,repositoryId,text,timestamp,versionCount\",\"start\":\"\",\"spellcheck.count\":\"5\",\"sort\":\"score desc,timestamp desc,g asc,a asc\",\"rows\":\"20\",\"wt\":\"json\",\"version\":\"2.2\"}},\"response\":{\"numFound\":0,\"start\":0,\"docs\":[]},\"spellcheck\":{\"suggestions\":[]}}' -- 200 -- https://search.maven.org/solrsearch/select?q=%5B'a:javax.annotation',%20'g:javax.annotation'%5D\n",
      "{'responseHeader': {'status': 0, 'QTime': 1, 'params': {'q': ['a:javax.annotation', 'g:javax.annotation'], 'core': '', 'indent': 'off', 'spellcheck': 'true', 'fl': 'id,g,a,latestVersion,p,ec,repositoryId,text,timestamp,versionCount', 'start': '', 'spellcheck.count': '5', 'sort': 'score desc,timestamp desc,g asc,a asc', 'rows': '20', 'wt': 'json', 'version': '2.2'}}, 'response': {'numFound': 0, 'start': 0, 'docs': []}, 'spellcheck': {'suggestions': []}}\n"
     ]
    },
    {
     "ename": "AttributeError",
     "evalue": "'dict' object has no attribute 'response'",
     "output_type": "error",
     "traceback": [
      "\u001b[0;31m---------------------------------------------------------------------------\u001b[0m",
      "\u001b[0;31mAttributeError\u001b[0m                            Traceback (most recent call last)",
      "Cell \u001b[0;32mIn[3], line 36\u001b[0m\n\u001b[1;32m     34\u001b[0m pp\u001b[38;5;241m.\u001b[39mpprint(task)\n\u001b[1;32m     35\u001b[0m \u001b[38;5;28;01mif\u001b[39;00m \u001b[38;5;28misinstance\u001b[39m(task, PackageDoesNotExistError):\n\u001b[0;32m---> 36\u001b[0m     task_manager\u001b[38;5;241m.\u001b[39msupply_result(\u001b[43mtask_manager\u001b[49m\u001b[38;5;241;43m.\u001b[39;49m\u001b[43mexecute_task\u001b[49m\u001b[43m(\u001b[49m\u001b[43mtask\u001b[49m\u001b[43m)\u001b[49m)\n",
      "File \u001b[0;32m~/repos/kai/kai/playpen/repo_level_awareness/codeplan.py:143\u001b[0m, in \u001b[0;36mTaskManager.execute_task\u001b[0;34m(self, task)\u001b[0m\n\u001b[1;32m    142\u001b[0m \u001b[38;5;28;01mdef\u001b[39;00m \u001b[38;5;21mexecute_task\u001b[39m(\u001b[38;5;28mself\u001b[39m, task: Task) \u001b[38;5;241m-\u001b[39m\u001b[38;5;241m>\u001b[39m TaskResult:\n\u001b[0;32m--> 143\u001b[0m     \u001b[38;5;28;01mreturn\u001b[39;00m \u001b[38;5;28;43mself\u001b[39;49m\u001b[38;5;241;43m.\u001b[39;49m\u001b[43mget_agent_for_task\u001b[49m\u001b[43m(\u001b[49m\u001b[43mtask\u001b[49m\u001b[43m)\u001b[49m\u001b[38;5;241;43m.\u001b[39;49m\u001b[43mexecute_task\u001b[49m\u001b[43m(\u001b[49m\u001b[38;5;28;43mself\u001b[39;49m\u001b[38;5;241;43m.\u001b[39;49m\u001b[43mrcm\u001b[49m\u001b[43m,\u001b[49m\u001b[43m \u001b[49m\u001b[43mtask\u001b[49m\u001b[43m)\u001b[49m\n",
      "File \u001b[0;32m~/repos/kai/kai/playpen/repo_level_awareness/task_runner/dependency/task_runner.py:35\u001b[0m, in \u001b[0;36mDependencyTaskRunner.execute_task\u001b[0;34m(self, rcm, task)\u001b[0m\n\u001b[1;32m     33\u001b[0m     p: PackageDoesNotExistError \u001b[38;5;241m=\u001b[39m task\n\u001b[1;32m     34\u001b[0m     msg \u001b[38;5;241m=\u001b[39m \u001b[38;5;124mf\u001b[39m\u001b[38;5;124m\"\u001b[39m\u001b[38;5;124mMaven Compiler Error:\u001b[39m\u001b[38;5;130;01m\\n\u001b[39;00m\u001b[38;5;132;01m{\u001b[39;00mtask\u001b[38;5;241m.\u001b[39mmessage\u001b[38;5;132;01m}\u001b[39;00m\u001b[38;5;124m\"\u001b[39m\n\u001b[0;32m---> 35\u001b[0m     response \u001b[38;5;241m=\u001b[39m \u001b[38;5;28;43mself\u001b[39;49m\u001b[38;5;241;43m.\u001b[39;49m\u001b[43m_agent\u001b[49m\u001b[38;5;241;43m.\u001b[39;49m\u001b[43mexecute\u001b[49m\u001b[43m(\u001b[49m\u001b[43mMavenDependencyRequest\u001b[49m\u001b[43m(\u001b[49m\u001b[43mtask\u001b[49m\u001b[38;5;241;43m.\u001b[39;49m\u001b[43mfile\u001b[49m\u001b[43m,\u001b[49m\u001b[43m \u001b[49m\u001b[43mmsg\u001b[49m\u001b[43m)\u001b[49m\u001b[43m)\u001b[49m\n\u001b[1;32m     37\u001b[0m response \u001b[38;5;241m=\u001b[39m \u001b[38;5;28mself\u001b[39m\u001b[38;5;241m.\u001b[39m_agent\u001b[38;5;241m.\u001b[39mexecute(MavenDependencyRequest(task\u001b[38;5;241m.\u001b[39mfile, task\u001b[38;5;241m.\u001b[39mmessage))\n\u001b[1;32m     38\u001b[0m \u001b[38;5;28mprint\u001b[39m(response)\n",
      "File \u001b[0;32m~/repos/kai/kai/playpen/repo_level_awareness/agent/dependency_agent.py:263\u001b[0m, in \u001b[0;36mMavenDependencyAgent.execute\u001b[0;34m(self, ask)\u001b[0m\n\u001b[1;32m    261\u001b[0m             m \u001b[38;5;241m=\u001b[39m \u001b[38;5;28mself\u001b[39m\u001b[38;5;241m.\u001b[39magent_methods\u001b[38;5;241m.\u001b[39mget(\u001b[38;5;124m\"\u001b[39m\u001b[38;5;124msearch_fqdn.run\u001b[39m\u001b[38;5;124m\"\u001b[39m)\n\u001b[1;32m    262\u001b[0m             \u001b[38;5;28mprint\u001b[39m(m)\n\u001b[0;32m--> 263\u001b[0m             maven_search\u001b[38;5;241m=\u001b[39m \u001b[43mm\u001b[49m\u001b[43m(\u001b[49m\u001b[43ma\u001b[49m\u001b[38;5;241;43m.\u001b[39;49m\u001b[43mcode\u001b[49m\u001b[43m)\u001b[49m\n\u001b[1;32m    265\u001b[0m \u001b[38;5;28;01mif\u001b[39;00m \u001b[38;5;129;01mnot\u001b[39;00m find_pom_lines:\n\u001b[1;32m    266\u001b[0m     \u001b[38;5;28;01mfor\u001b[39;00m a \u001b[38;5;129;01min\u001b[39;00m llm_response\u001b[38;5;241m.\u001b[39mactions:\n",
      "File \u001b[0;32m~/repos/kai/kai/playpen/repo_level_awareness/agent/dependency_agent.py:94\u001b[0m, in \u001b[0;36msearch_fqdn\u001b[0;34m(code)\u001b[0m\n\u001b[1;32m     92\u001b[0m     o \u001b[38;5;241m=\u001b[39m resp\u001b[38;5;241m.\u001b[39mjson()\n\u001b[1;32m     93\u001b[0m     \u001b[38;5;28mprint\u001b[39m(o)\n\u001b[0;32m---> 94\u001b[0m     doc \u001b[38;5;241m=\u001b[39m \u001b[43mo\u001b[49m\u001b[38;5;241;43m.\u001b[39;49m\u001b[43mresponse\u001b[49m\u001b[38;5;241m.\u001b[39mdocs[\u001b[38;5;241m0\u001b[39m]\n\u001b[1;32m     95\u001b[0m     \u001b[38;5;28;01mreturn\u001b[39;00m FQDNResponse(artifact_id\u001b[38;5;241m=\u001b[39m doc\u001b[38;5;241m.\u001b[39ma, group_id\u001b[38;5;241m=\u001b[39mdoc\u001b[38;5;241m.\u001b[39mg, version\u001b[38;5;241m=\u001b[39mdoc\u001b[38;5;241m.\u001b[39mv)\n\u001b[1;32m     96\u001b[0m \u001b[38;5;28;01melse\u001b[39;00m:\n",
      "\u001b[0;31mAttributeError\u001b[0m: 'dict' object has no attribute 'response'"
     ]
    }
   ],
   "source": [
    "from pathlib import Path\n",
    "from kai.service.llm_interfacing.model_provider import ModelProvider\n",
    "from kai.models.kai_config import KaiConfig\n",
    "from playpen.repo_level_awareness.agent.dependency_agent import MavenDependencyAgent\n",
    "from playpen.repo_level_awareness.api import RpcClientConfig\n",
    "from playpen.repo_level_awareness.codeplan import TaskManager\n",
    "from playpen.repo_level_awareness.task_runner.compiler.maven_validator import MavenCompileStep, SymbolNotFoundError, PackageDoesNotExistError\n",
    "from playpen.repo_level_awareness.task_runner.dependency.task_runner import DependencyTaskRunner\n",
    "import os\n",
    "\n",
    "from playpen.repo_level_awareness.vfs.git_vfs import RepoContextManager\n",
    "\n",
    "config = RpcClientConfig(Path(coolstore_path), None, None, None, None, None)\n",
    "kai_config = KaiConfig.model_validate_filepath(\"../../kai/config.toml\")\n",
    "modelProvider = ModelProvider(kai_config.models)\n",
    "rcm = RepoContextManager(config.repo_directory, modelProvider.llm)\n",
    "agent = MavenDependencyAgent(modelProvider.llm)\n",
    "\n",
    "# Create the task runner.\n",
    "task_runner = DependencyTaskRunner(agent)\n",
    "\n",
    "## Now, we need to set up code plan, with this agent, and to talk to coolstore. To show the missing dependencies we will only use the maven compiler validator.\n",
    "\n",
    "task_manager = TaskManager(\n",
    "        config,\n",
    "        rcm,\n",
    "        None,\n",
    "        validators=[MavenCompileStep(config)],\n",
    "        agents=[task_runner],\n",
    "    )\n",
    "\n",
    "\n",
    "for task in task_manager.get_next_task():\n",
    "    pp.pprint(task)\n",
    "    if isinstance(task, PackageDoesNotExistError):\n",
    "        task_manager.supply_result(task_manager.execute_task(task))\n"
   ]
  },
  {
   "cell_type": "markdown",
   "metadata": {},
   "source": [
    "## Cleanup temp dir"
   ]
  },
  {
   "cell_type": "code",
   "execution_count": 4,
   "metadata": {},
   "outputs": [],
   "source": [
    "temp_dir.cleanup()"
   ]
  }
 ],
 "metadata": {
  "kernelspec": {
   "display_name": "env",
   "language": "python",
   "name": "python3"
  },
  "language_info": {
   "codemirror_mode": {
    "name": "ipython",
    "version": 3
   },
   "file_extension": ".py",
   "mimetype": "text/x-python",
   "name": "python",
   "nbconvert_exporter": "python",
   "pygments_lexer": "ipython3",
   "version": "3.12.6"
  }
 },
 "nbformat": 4,
 "nbformat_minor": 2
}
