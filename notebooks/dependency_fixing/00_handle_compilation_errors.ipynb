{
 "cells": [
  {
   "cell_type": "markdown",
   "metadata": {},
   "source": [
    "# Handle Maven dependency issues\n",
    "\n",
    "Explore using the task runner, to handle both maven compiler errors when dependencies are missing, and a specific task from the analyzer-lsp validator"
   ]
  },
  {
   "cell_type": "markdown",
   "metadata": {},
   "source": [
    "## Setting up the environment"
   ]
  },
  {
   "cell_type": "code",
   "execution_count": 1,
   "metadata": {},
   "outputs": [],
   "source": [
    "import pprint\n",
    "\n",
    "pp = pprint.PrettyPrinter(indent=2)"
   ]
  },
  {
   "cell_type": "markdown",
   "metadata": {},
   "source": [
    "## Create the Test Environment\n",
    "\n",
    "For creating the test environment we will:\n",
    "\n",
    "1. move the coolstore to a temp direcotry\n",
    "2. Update the InventoryEntity to use UUID for the itemID as the type."
   ]
  },
  {
   "cell_type": "code",
   "execution_count": 2,
   "metadata": {},
   "outputs": [
    {
     "name": "stdout",
     "output_type": "stream",
     "text": [
      "<TemporaryDirectory '/var/folders/vt/5bfp7vyd1h79_7k5ygr0fttr0000gn/T/tmp2ngh3xq2'>\n"
     ]
    }
   ],
   "source": [
    "import tempfile\n",
    "import shutil\n",
    "import os\n",
    "import subprocess\n",
    "\n",
    "#First we need to download coolstore if it does not exist.\n",
    "\n",
    "if not os.path.exists(\"./coolstore\"):\n",
    "    subprocess.run(\"../../example/fetch.sh\")\n",
    "\n",
    "temp_dir = tempfile.TemporaryDirectory()\n",
    "coolstore_path = os.path.join(temp_dir.name, \"coolstore\")\n",
    "shutil.copytree(\"./coolstore\", coolstore_path)\n",
    "\n",
    "## make the necessary change\n",
    "shutil.copyfile(\"./testing_pom_changes/pom.xml\", f\"{coolstore_path}/pom.xml\")\n",
    "print(temp_dir)\n"
   ]
  },
  {
   "cell_type": "markdown",
   "metadata": {},
   "source": [
    "## Testing for Dependency issue with coolstore missing a dependencies\n",
    "\n",
    "This will test that removed dependency is re-added "
   ]
  },
  {
   "cell_type": "code",
   "execution_count": 3,
   "metadata": {},
   "outputs": [
    {
     "ename": "TypeError",
     "evalue": "MavenDependencyAgent.__init__() missing 1 required positional argument: 'project_base'",
     "output_type": "error",
     "traceback": [
      "\u001b[0;31m---------------------------------------------------------------------------\u001b[0m",
      "\u001b[0;31mTypeError\u001b[0m                                 Traceback (most recent call last)",
      "Cell \u001b[0;32mIn[3], line 17\u001b[0m\n\u001b[1;32m     15\u001b[0m modelProvider \u001b[38;5;241m=\u001b[39m ModelProvider(kai_config\u001b[38;5;241m.\u001b[39mmodels)\n\u001b[1;32m     16\u001b[0m rcm \u001b[38;5;241m=\u001b[39m RepoContextManager(config\u001b[38;5;241m.\u001b[39mrepo_directory, modelProvider\u001b[38;5;241m.\u001b[39mllm)\n\u001b[0;32m---> 17\u001b[0m agent \u001b[38;5;241m=\u001b[39m \u001b[43mMavenDependencyAgent\u001b[49m\u001b[43m(\u001b[49m\u001b[43mmodelProvider\u001b[49m\u001b[38;5;241;43m.\u001b[39;49m\u001b[43mllm\u001b[49m\u001b[43m)\u001b[49m\n\u001b[1;32m     19\u001b[0m \u001b[38;5;66;03m# Create the task runner.\u001b[39;00m\n\u001b[1;32m     20\u001b[0m task_runner \u001b[38;5;241m=\u001b[39m DependencyTaskRunner(agent)\n",
      "\u001b[0;31mTypeError\u001b[0m: MavenDependencyAgent.__init__() missing 1 required positional argument: 'project_base'"
     ]
    }
   ],
   "source": [
    "from pathlib import Path\n",
    "from kai.service.llm_interfacing.model_provider import ModelProvider\n",
    "from kai.models.kai_config import KaiConfig\n",
    "from playpen.repo_level_awareness.agent.dependency_agent import MavenDependencyAgent\n",
    "from playpen.repo_level_awareness.api import RpcClientConfig\n",
    "from playpen.repo_level_awareness.codeplan import TaskManager\n",
    "from playpen.repo_level_awareness.task_runner.compiler.maven_validator import MavenCompileStep, SymbolNotFoundError, PackageDoesNotExistError\n",
    "from playpen.repo_level_awareness.task_runner.dependency.task_runner import DependencyTaskRunner\n",
    "import os\n",
    "\n",
    "from playpen.repo_level_awareness.vfs.git_vfs import RepoContextManager\n",
    "\n",
    "config = RpcClientConfig(Path(coolstore_path), None, None, None, None, None)\n",
    "kai_config = KaiConfig.model_validate_filepath(\"../../kai/config.toml\")\n",
    "modelProvider = ModelProvider(kai_config.models)\n",
    "rcm = RepoContextManager(config.repo_directory, modelProvider.llm)\n",
    "agent = MavenDependencyAgent(modelProvider.llm, config.repo_directory)\n",
    "\n",
    "# Create the task runner.\n",
    "task_runner = DependencyTaskRunner(agent)\n",
    "\n",
    "## Now, we need to set up code plan, with this agent, and to talk to coolstore. To show the missing dependencies we will only use the maven compiler validator.\n",
    "\n",
    "task_manager = TaskManager(\n",
    "        config,\n",
    "        rcm,\n",
    "        None,\n",
    "        validators=[MavenCompileStep(config)],\n",
    "        agents=[task_runner],\n",
    "    )\n",
    "\n",
    "\n",
    "for task in task_manager.get_next_task():\n",
    "    pp.pprint(task)\n",
    "    if isinstance(task, PackageDoesNotExistError):\n",
    "        task_manager.supply_result(task_manager.execute_task(task))\n"
   ]
  },
  {
   "cell_type": "markdown",
   "metadata": {},
   "source": [
    "## Cleanup temp dir"
   ]
  },
  {
   "cell_type": "code",
   "execution_count": 4,
   "metadata": {},
   "outputs": [],
   "source": [
    "temp_dir.cleanup()"
   ]
  }
 ],
 "metadata": {
  "kernelspec": {
   "display_name": "env",
   "language": "python",
   "name": "python3"
  },
  "language_info": {
   "codemirror_mode": {
    "name": "ipython",
    "version": 3
   },
   "file_extension": ".py",
   "mimetype": "text/x-python",
   "name": "python",
   "nbconvert_exporter": "python",
   "pygments_lexer": "ipython3",
   "version": "3.12.6"
  }
 },
 "nbformat": 4,
 "nbformat_minor": 2
}
