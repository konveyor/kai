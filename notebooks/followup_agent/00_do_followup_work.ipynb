{
 "cells": [
  {
   "cell_type": "markdown",
   "metadata": {},
   "source": [
    "# Agent to take follow up actions after analysis issue fix\n",
    "\n",
    "This is an agent that uses \"Additional Information\" from fix generation agent to make further changes.\n",
    "\n",
    "For faster prototyping, we use LangGraph for implementing this.\n",
    "\n",
    "We create a simple network of agents - FixGenerationAgent, FileOperationsAgent. \n",
    "\n",
    "The _FixGenerationAgent_ is the same as what we use today to fix analyzer issues. _FileOperationsAgent_ is a new agent we introduce that takes follow up actions. The follow up actions include updating another file, removing a file, or creating a new file. For each operation, we have a tool defined.\n",
    "\n",
    "![Diagram](./screenshots/Tool.png)"
   ]
  },
  {
   "cell_type": "markdown",
   "metadata": {},
   "source": [
    "# Fix Generation Agent\n",
    "\n",
    "This is same as the existing agent we use to fix analysis issues.\n",
    "\n",
    "We are using a few hardcoded examples of analysis issues to generate fixes.\n",
    "\n",
    "Before proceeding, make sure you are using Kai venv to run cells in this notebook.\n",
    "\n",
    "We need to install `langgraph` module, run following cell:"
   ]
  },
  {
   "cell_type": "code",
   "execution_count": null,
   "metadata": {},
   "outputs": [],
   "source": [
    "%load_ext dotenv\n",
    "%dotenv\n",
    "%pip install langgraph"
   ]
  },
  {
   "cell_type": "code",
   "execution_count": 2,
   "metadata": {},
   "outputs": [],
   "source": [
    "# THIS CELL CONTAINS SOME COMMON FUNCTIONS WE WILL USE, RUN THIS CELL BEFORE MOVING FORWARD\n",
    "\n",
    "import re\n",
    "\n",
    "def parse_llm_response(message: str) -> tuple[str, str, str]:\n",
    "    lines_of_output = message.splitlines()\n",
    "    in_source_file = False\n",
    "    in_reasoning = False\n",
    "    in_additional_details = False\n",
    "    source_file = \"\"\n",
    "    reasoning = \"\"\n",
    "    additional_details = \"\"\n",
    "    for line in lines_of_output:\n",
    "        # trunk-ignore(cspell/error)\n",
    "        if re.match(r\"(?:##|\\*\\*)\\s+[Rr]easoning\", line.strip()):\n",
    "            in_reasoning = True\n",
    "            in_source_file = False\n",
    "            in_additional_details = False\n",
    "            continue\n",
    "        # trunk-ignore(cspell/error)\n",
    "        if re.match(r\"(?:##|\\*\\*)\\s+[Uu]pdated.*[Ff]ile\", line.strip()):\n",
    "            in_source_file = True\n",
    "            in_reasoning = False\n",
    "            in_additional_details = False\n",
    "            continue\n",
    "        # trunk-ignore(cspell/error)\n",
    "        if re.match(r\"(?:##|\\*\\*)\\s+[Aa]dditional\\s+[Ii]nformation\", line.strip()):\n",
    "            in_reasoning = False\n",
    "            in_source_file = False\n",
    "            in_additional_details = True\n",
    "            continue\n",
    "        if in_source_file:\n",
    "            if re.match(r\"```(?:\\w*)\", line):\n",
    "                continue\n",
    "            source_file = \"\\n\".join([source_file, line])\n",
    "        if in_reasoning:\n",
    "            reasoning = \"\\n\".join([reasoning, line])\n",
    "        if in_additional_details:\n",
    "            additional_details = \"\\n\".join([additional_details, line])\n",
    "    return source_file, reasoning, additional_details"
   ]
  },
  {
   "cell_type": "markdown",
   "metadata": {},
   "source": [
    "We will create the analysis fix agent and generate a few example fixes to be used with file operation agents. \n",
    "\n",
    "The example issues are taken from Coolstore application analysis and can be found in [example_prompts](./example_prompts/) directory.\n",
    "\n",
    "Running the following cell will generate analysis fixes for all examples and store them in variables for later use."
   ]
  },
  {
   "cell_type": "code",
   "execution_count": 3,
   "metadata": {},
   "outputs": [],
   "source": [
    "from pathlib import Path\n",
    "from langchain_openai import ChatOpenAI\n",
    "from langchain_core.messages import HumanMessage, AIMessage\n",
    "from langgraph.prebuilt import create_react_agent\n",
    "\n",
    "llm = ChatOpenAI(model=\"gpt-4o\")\n",
    "\n",
    "# fix generation agent\n",
    "fix_gen_agent = create_react_agent(\n",
    "    model=llm,\n",
    "    name=\"fix_gen_agent\",\n",
    "    prompt=\"You are an experienced Java developer, who specializes in migrating code from Java EE to Quarkus\",\n",
    "    tools=[],\n",
    ")\n",
    "\n",
    "raw_response_ex1 = fix_gen_agent.invoke({\n",
    "    \"messages\": [\n",
    "        HumanMessage(content=Path(\"example_prompts\", \"inventory_notification_java\", \"jms-to-reactive-quarkus-00050\").read_text()),\n",
    "    ]\n",
    "})"
   ]
  },
  {
   "cell_type": "code",
   "execution_count": 4,
   "metadata": {},
   "outputs": [
    {
     "name": "stdout",
     "output_type": "stream",
     "text": [
      "We will use following additional info for Example-1:\n",
      "\n",
      "\n",
      "- Ensure your `pom.xml` includes the necessary Quarkus SmallRye Reactive Messaging dependencies. For example:\n",
      "  ```xml\n",
      "  <dependency>\n",
      "    <groupId>io.quarkus</groupId>\n",
      "    <artifactId>quarkus-smallrye-reactive-messaging</artifactId>\n",
      "  </dependency>\n",
      "  ```\n",
      "- Configure the messaging channel in `application.properties` to connect to your message broker.\n",
      "- This refactor assumes that somewhere in the application's configuration, the channel with the name `\"orders\"` is set up.\n",
      "- Further migration steps might include migrating other Java EE specific annotations and configurations to their Quarkus equivalents.\n"
     ]
    }
   ],
   "source": [
    "_, _, additional_info_ex1 = parse_llm_response(raw_response_ex1[\"messages\"][-1].content)\n",
    "print(\"We will use following additional info for Example-1:\")\n",
    "print(additional_info_ex1)"
   ]
  },
  {
   "cell_type": "markdown",
   "metadata": {},
   "source": [
    "## File Operations Agent\n",
    "\n",
    "This is the agent that will take \"Additional Information\" generated by previous agent as input and take actions if there is anything important in additional information. \n",
    "\n",
    "The actions include:\n",
    " * updating an existing file (which may not be same as the original file we fixed)\n",
    " * deleting a file\n",
    " * creating a new file\n",
    "\n",
    "The agent will use following tools to take the above options:\n",
    " * find: Finds relevant files in the project\n",
    " * read: Reads a file in the project\n",
    " * write: Writes content to a file in the project\n",
    " * rm: Removes a file from the project\n",
    "\n",
    "In the following cell, we define these tools and the agent.\n",
    "\n",
    "The [project](./project/) directory is the base of the project and will be used by the agent to perform file operations."
   ]
  },
  {
   "cell_type": "code",
   "execution_count": null,
   "metadata": {},
   "outputs": [],
   "source": [
    "import os\n",
    "import glob\n",
    "from langgraph.prebuilt import create_react_agent\n",
    "from langchain_core.tools import tool\n",
    "from typing import Annotated\n",
    "\n",
    "@tool\n",
    "def find(file_name_pattern: Annotated[str, \"Glob pattern to match file names\"]) -> Annotated[str, \"Absolute paths of the files found separated by newlines\"]:\n",
    "    \"\"\"Given a glob pattern, searches for files matching the pattern in project and returns absolute paths of the files\n",
    "\n",
    "    Returns:\n",
    "        str: Newline separated list of filepaths\n",
    "    \"\"\"\n",
    "    try:\n",
    "        matching_files = glob.glob(\"./project/\" + file_name_pattern, recursive=True)\n",
    "    except Exception as e:\n",
    "        return f\"Failed to search for files because of error - {e}\"\n",
    "    absolute_paths = [os.path.abspath(file) for file in matching_files]\n",
    "    if not absolute_paths:\n",
    "        return f\"No files found matching pattern {file_name_pattern}\"\n",
    "    return \"\\n\".join(absolute_paths)\n",
    "\n",
    "@tool\n",
    "def read(file_name: Annotated[str, \"Absolute path to the file to read\"]):\n",
    "    \"\"\"Given an absolute path to a file, reads the file and returns content\"\"\"\n",
    "    if os.path.exists(file_name):\n",
    "        contents = \"\"\n",
    "        with open(file_name, \"r\") as f:\n",
    "            contents = f.read()\n",
    "        return f\"Here are the file contents:\\n```{contents}```\"\n",
    "    return f\"File {file_name} does not exist\"\n",
    "\n",
    "@tool\n",
    "def write(file_name: Annotated[str, \"Absolute path to the file\"], content: Annotated[str, \"Content to write to the file\"]):\n",
    "    \"\"\"Given an absolute path to a file and the content, writes content to the file. If the file doesn't exist, creates a new file.\n",
    "    If the directories dont exist, creates all parent directories.\"\"\"\n",
    "    try:\n",
    "        os.makedirs(os.path.dirname(file_name), exist_ok=True)\n",
    "        with open(file_name, \"w+\") as f:\n",
    "            f.write(content)\n",
    "        return f\"Successfully wrote contents to file {file_name}\"\n",
    "    except Exception as e:\n",
    "        return f\"Failed to write to file with error {e}\"\n",
    "\n",
    "@tool\n",
    "def rm(file: Annotated[str, \"Full path of the file to remove\"]):\n",
    "    \"\"\"Removes file\"\"\"\n",
    "    if os.path.exists(file):\n",
    "        os.remove(file)\n",
    "        return \"Removed the file\"\n",
    "    return f\"File {file} does not exist\"\n",
    "\n",
    "file_ops_agent = create_react_agent(\n",
    "    model=llm,\n",
    "    tools=[find, read, write, rm],\n",
    "    prompt=\"\"\"You are an expert Java developer. You are asked to make changes in a Java project.\n",
    "You can either update an existing file, delete a file, or create a new file with relevant content.\n",
    "To update or delete an existing file, search for the file to update using a glob pattern, and determine which file to update from the files found.\n",
    "To update an existing file, make sure you read the file to get existing contents, and then write to the file updated content.\n",
    "If a file doesn't exist and needs to be created, create that file.\n",
    "Always use absolute file paths to make changes to files. You are given tools to perform file operations. Use the tools, and make the changes needed.\n",
    "Use your best judgement to solve the issues described.\n",
    "\"\"\",\n",
    ")\n",
    "\n",
    "for state in file_ops_agent.stream(\n",
    "    {\"messages\": [HumanMessage(content=additional_info_ex1)]},\n",
    "    stream_mode=[\"updates\"]\n",
    "):\n",
    "    print(state)"
   ]
  },
  {
   "cell_type": "markdown",
   "metadata": {},
   "source": [
    "## Results\n",
    "\n",
    "In the above output, you can see that the model searched for `pom.xml` file and added the dependency. \n",
    "\n",
    "It also searched for `application.properties` file but it wasn't found, so it created a new file at path `src/main/resources` which is the correct path for Quarkus applications. \n",
    "\n",
    "This proves the possibility of updating another file from the project, AND creating a new file.\n",
    "\n",
    "I have attached screenshots of the results from my environment below.\n",
    "\n",
    "![pom_xml_update](./screenshots/pom_xml_update.png)\n",
    "\n",
    "![application_properties_creation](./screenshots/application_properties_creation.png)"
   ]
  },
  {
   "cell_type": "markdown",
   "metadata": {},
   "source": [
    "## File Removal Example\n",
    "\n",
    "Lets take a look at another example where we have to remove a `web.xml` file. "
   ]
  },
  {
   "cell_type": "code",
   "execution_count": 7,
   "metadata": {},
   "outputs": [
    {
     "name": "stdout",
     "output_type": "stream",
     "text": [
      "('updates', {'agent': {'messages': [AIMessage(content='', additional_kwargs={'tool_calls': [{'id': 'call_kJ349drWJKvqlABX5znrJ5FA', 'function': {'arguments': '{\"file_name_pattern\":\"**/beans.xml\"}', 'name': 'find'}, 'type': 'function'}], 'refusal': None}, response_metadata={'token_usage': {'completion_tokens': 19, 'prompt_tokens': 486, 'total_tokens': 505, 'completion_tokens_details': {'accepted_prediction_tokens': 0, 'audio_tokens': 0, 'reasoning_tokens': 0, 'rejected_prediction_tokens': 0}, 'prompt_tokens_details': {'audio_tokens': 0, 'cached_tokens': 0}}, 'model_name': 'gpt-4o-2024-08-06', 'system_fingerprint': 'fp_eb9dce56a8', 'finish_reason': 'tool_calls', 'logprobs': None}, id='run-36a10b58-d04c-47ec-93b8-fb03cd61294c-0', tool_calls=[{'name': 'find', 'args': {'file_name_pattern': '**/beans.xml'}, 'id': 'call_kJ349drWJKvqlABX5znrJ5FA', 'type': 'tool_call'}], usage_metadata={'input_tokens': 486, 'output_tokens': 19, 'total_tokens': 505, 'input_token_details': {'audio': 0, 'cache_read': 0}, 'output_token_details': {'audio': 0, 'reasoning': 0}})]}})\n",
      "('updates', {'tools': {'messages': [ToolMessage(content='/Users/pgaikwad/Projects/kai/notebooks/followup_agent/project/beans.xml', name='find', id='e0a0a024-50c2-475a-84f5-f5531a4952bf', tool_call_id='call_kJ349drWJKvqlABX5znrJ5FA')]}})\n",
      "('updates', {'agent': {'messages': [AIMessage(content='', additional_kwargs={'tool_calls': [{'id': 'call_TUPYHo7PX4JYEaTuFSuWwWA2', 'function': {'arguments': '{\"file\": \"/Users/pgaikwad/Projects/kai/notebooks/followup_agent/project/beans.xml\"}', 'name': 'rm'}, 'type': 'function'}, {'id': 'call_zWi6FoLY6fkNjCCnOd0W1rFn', 'function': {'arguments': '{\"file_name_pattern\": \"**/pom.xml\"}', 'name': 'find'}, 'type': 'function'}], 'refusal': None}, response_metadata={'token_usage': {'completion_tokens': 67, 'prompt_tokens': 531, 'total_tokens': 598, 'completion_tokens_details': {'accepted_prediction_tokens': 0, 'audio_tokens': 0, 'reasoning_tokens': 0, 'rejected_prediction_tokens': 0}, 'prompt_tokens_details': {'audio_tokens': 0, 'cached_tokens': 0}}, 'model_name': 'gpt-4o-2024-08-06', 'system_fingerprint': 'fp_eb9dce56a8', 'finish_reason': 'tool_calls', 'logprobs': None}, id='run-6c949258-6d7e-445d-9507-c270b2fbba2d-0', tool_calls=[{'name': 'rm', 'args': {'file': '/Users/pgaikwad/Projects/kai/notebooks/followup_agent/project/beans.xml'}, 'id': 'call_TUPYHo7PX4JYEaTuFSuWwWA2', 'type': 'tool_call'}, {'name': 'find', 'args': {'file_name_pattern': '**/pom.xml'}, 'id': 'call_zWi6FoLY6fkNjCCnOd0W1rFn', 'type': 'tool_call'}], usage_metadata={'input_tokens': 531, 'output_tokens': 67, 'total_tokens': 598, 'input_token_details': {'audio': 0, 'cache_read': 0}, 'output_token_details': {'audio': 0, 'reasoning': 0}})]}})\n",
      "('updates', {'tools': {'messages': [ToolMessage(content='Removed the file', name='rm', id='c7586535-32af-4236-abda-43e1c114c6c1', tool_call_id='call_TUPYHo7PX4JYEaTuFSuWwWA2'), ToolMessage(content='/Users/pgaikwad/Projects/kai/notebooks/followup_agent/project/pom.xml', name='find', id='8d6cb8de-b186-4420-af9f-e2bc6659fe8a', tool_call_id='call_zWi6FoLY6fkNjCCnOd0W1rFn')]}})\n",
      "('updates', {'agent': {'messages': [AIMessage(content='', additional_kwargs={'tool_calls': [{'id': 'call_Mq5whWm8PYf73MnE4Rwsn4H5', 'function': {'arguments': '{\"file_name\":\"/Users/pgaikwad/Projects/kai/notebooks/followup_agent/project/pom.xml\"}', 'name': 'read'}, 'type': 'function'}], 'refusal': None}, response_metadata={'token_usage': {'completion_tokens': 34, 'prompt_tokens': 633, 'total_tokens': 667, 'completion_tokens_details': {'accepted_prediction_tokens': 0, 'audio_tokens': 0, 'reasoning_tokens': 0, 'rejected_prediction_tokens': 0}, 'prompt_tokens_details': {'audio_tokens': 0, 'cached_tokens': 0}}, 'model_name': 'gpt-4o-2024-08-06', 'system_fingerprint': 'fp_eb9dce56a8', 'finish_reason': 'tool_calls', 'logprobs': None}, id='run-ef549071-8c63-4ea0-b251-6fd603b83003-0', tool_calls=[{'name': 'read', 'args': {'file_name': '/Users/pgaikwad/Projects/kai/notebooks/followup_agent/project/pom.xml'}, 'id': 'call_Mq5whWm8PYf73MnE4Rwsn4H5', 'type': 'tool_call'}], usage_metadata={'input_tokens': 633, 'output_tokens': 34, 'total_tokens': 667, 'input_token_details': {'audio': 0, 'cache_read': 0}, 'output_token_details': {'audio': 0, 'reasoning': 0}})]}})\n",
      "('updates', {'tools': {'messages': [ToolMessage(content='Here are the file contents:\\n```<?xml version=\"1.0\" encoding=\"UTF-8\"?>\\n<project \\n    xmlns=\"http://maven.apache.org/POM/4.0.0\" \\n    xmlns:xsi=\"http://www.w3.org/2001/XMLSchema-instance\" xsi:schemaLocation=\"http://maven.apache.org/POM/4.0.0 http://maven.apache.org/xsd/maven-4.0.0.xsd\">\\n    <modelVersion>4.0.0</modelVersion>\\n    <groupId>com.redhat.coolstore</groupId>\\n    <artifactId>monolith</artifactId>\\n    <version>1.0.0-SNAPSHOT</version>\\n    <packaging>war</packaging>\\n    <name>coolstore-monolith</name>\\n    <properties>\\n        <project.build.sourceEncoding>UTF-8</project.build.sourceEncoding>\\n        <maven.build.timestamp.format>yyyyMMdd\\'T\\'HHmmss</maven.build.timestamp.format>\\n        <project.encoding>UTF-8</project.encoding>\\n        <maven.test.skip>true</maven.test.skip>\\n    </properties>\\n    <dependencies>\\n        <dependency>\\n            <groupId>javax</groupId>\\n            <artifactId>javaee-web-api</artifactId>\\n            <version>7.0</version>\\n            <scope>provided</scope>\\n        </dependency>\\n        <dependency>\\n            <groupId>javax</groupId>\\n            <artifactId>javaee-api</artifactId>\\n            <version>7.0</version>\\n            <scope>provided</scope>\\n        </dependency>\\n        <dependency>\\n            <groupId>org.jboss.spec.javax.jms</groupId>\\n            <artifactId>jboss-jms-api_2.0_spec</artifactId>\\n            <version>2.0.0.Final</version>\\n        </dependency>\\n        <dependency>\\n            <groupId>org.flywaydb</groupId>\\n            <artifactId>flyway-core</artifactId>\\n            <version>4.1.2</version>\\n        </dependency>\\n        <dependency>\\n            <groupId>org.jboss.spec.javax.rmi</groupId>\\n            <artifactId>jboss-rmi-api_1.0_spec</artifactId>\\n            <version>1.0.2.Final</version>\\n        </dependency>\\n    </dependencies>\\n    <build>\\n        <finalName>ROOT</finalName>\\n        <plugins>\\n            <plugin>\\n                <artifactId>maven-compiler-plugin</artifactId>\\n                <version>3.0</version>\\n                <configuration>\\n                    <encoding>${project.encoding}</encoding>\\n                    <source>1.8</source>\\n                    <target>1.8</target>\\n                </configuration>\\n            </plugin>\\n            <plugin>\\n                <groupId>org.apache.maven.plugins</groupId>\\n                <artifactId>maven-war-plugin</artifactId>\\n                <version>3.2.0</version>\\n            </plugin>\\n        </plugins>\\n    </build>\\n    <profiles>\\n<!-- TODO: Add OpenShift profile here -->\\n    </profiles>\\n</project>```', name='read', id='e5b1dac4-02c4-47c9-8f76-c4d2c14dcd94', tool_call_id='call_Mq5whWm8PYf73MnE4Rwsn4H5')]}})\n",
      "('updates', {'agent': {'messages': [AIMessage(content='The `pom.xml` file does not currently include the necessary Quarkus extensions for CDI support, such as `quarkus-resteasy` or `quarkus-arc`. I will update the `pom.xml` file to add these dependencies.', additional_kwargs={'tool_calls': [{'id': 'call_ZxP0yiOCcJ95qnn5Wd3hOsXL', 'function': {'arguments': '{\"file_name\":\"/Users/pgaikwad/Projects/kai/notebooks/followup_agent/project/pom.xml\",\"content\":\"<?xml version=\\\\\"1.0\\\\\" encoding=\\\\\"UTF-8\\\\\"?>\\\\n<project \\\\n    xmlns=\\\\\"http://maven.apache.org/POM/4.0.0\\\\\" \\\\n    xmlns:xsi=\\\\\"http://www.w3.org/2001/XMLSchema-instance\\\\\" xsi:schemaLocation=\\\\\"http://maven.apache.org/POM/4.0.0 http://maven.apache.org/xsd/maven-4.0.0.xsd\\\\\">\\\\n    <modelVersion>4.0.0</modelVersion>\\\\n    <groupId>com.redhat.coolstore</groupId>\\\\n    <artifactId>monolith</artifactId>\\\\n    <version>1.0.0-SNAPSHOT</version>\\\\n    <packaging>war</packaging>\\\\n    <name>coolstore-monolith</name>\\\\n    <properties>\\\\n        <project.build.sourceEncoding>UTF-8</project.build.sourceEncoding>\\\\n        <maven.build.timestamp.format>yyyyMMdd\\'T\\'HHmmss</maven.build.timestamp.format>\\\\n        <project.encoding>UTF-8</project.encoding>\\\\n        <maven.test.skip>true</maven.test.skip>\\\\n    </properties>\\\\n    <dependencies>\\\\n        <dependency>\\\\n            <groupId>javax</groupId>\\\\n            <artifactId>javaee-web-api</artifactId>\\\\n            <version>7.0</version>\\\\n            <scope>provided</scope>\\\\n        </dependency>\\\\n        <dependency>\\\\n            <groupId>javax</groupId>\\\\n            <artifactId>javaee-api</artifactId>\\\\n            <version>7.0</version>\\\\n            <scope>provided</scope>\\\\n        </dependency>\\\\n        <dependency>\\\\n            <groupId>org.jboss.spec.javax.jms</groupId>\\\\n            <artifactId>jboss-jms-api_2.0_spec</artifactId>\\\\n            <version>2.0.0.Final</version>\\\\n        </dependency>\\\\n        <dependency>\\\\n            <groupId>org.flywaydb</groupId>\\\\n            <artifactId>flyway-core</artifactId>\\\\n            <version>4.1.2</version>\\\\n        </dependency>\\\\n        <dependency>\\\\n            <groupId>org.jboss.spec.javax.rmi</groupId>\\\\n            <artifactId>jboss-rmi-api_1.0_spec</artifactId>\\\\n            <version>1.0.2.Final</version>\\\\n        </dependency>\\\\n        <dependency>\\\\n            <groupId>io.quarkus</groupId>\\\\n            <artifactId>quarkus-resteasy</artifactId>\\\\n        </dependency>\\\\n        <dependency>\\\\n            <groupId>io.quarkus</groupId>\\\\n            <artifactId>quarkus-arc</artifactId>\\\\n        </dependency>\\\\n    </dependencies>\\\\n    <build>\\\\n        <finalName>ROOT</finalName>\\\\n        <plugins>\\\\n            <plugin>\\\\n                <artifactId>maven-compiler-plugin</artifactId>\\\\n                <version>3.0</version>\\\\n                <configuration>\\\\n                    <encoding>${project.encoding}</encoding>\\\\n                    <source>1.8</source>\\\\n                    <target>1.8</target>\\\\n                </configuration>\\\\n            </plugin>\\\\n            <plugin>\\\\n                <groupId>org.apache.maven.plugins</groupId>\\\\n                <artifactId>maven-war-plugin</artifactId>\\\\n                <version>3.2.0</version>\\\\n            </plugin>\\\\n        </plugins>\\\\n    </build>\\\\n    <profiles>\\\\n<!-- TODO: Add OpenShift profile here -->\\\\n    </profiles>\\\\n</project>\"}', 'name': 'write'}, 'type': 'function'}], 'refusal': None}, response_metadata={'token_usage': {'completion_tokens': 897, 'prompt_tokens': 1339, 'total_tokens': 2236, 'completion_tokens_details': {'accepted_prediction_tokens': 0, 'audio_tokens': 0, 'reasoning_tokens': 0, 'rejected_prediction_tokens': 0}, 'prompt_tokens_details': {'audio_tokens': 0, 'cached_tokens': 0}}, 'model_name': 'gpt-4o-2024-08-06', 'system_fingerprint': 'fp_eb9dce56a8', 'finish_reason': 'tool_calls', 'logprobs': None}, id='run-27da3e34-916c-4286-95c8-3c5d6ecb6e07-0', tool_calls=[{'name': 'write', 'args': {'file_name': '/Users/pgaikwad/Projects/kai/notebooks/followup_agent/project/pom.xml', 'content': '<?xml version=\"1.0\" encoding=\"UTF-8\"?>\\n<project \\n    xmlns=\"http://maven.apache.org/POM/4.0.0\" \\n    xmlns:xsi=\"http://www.w3.org/2001/XMLSchema-instance\" xsi:schemaLocation=\"http://maven.apache.org/POM/4.0.0 http://maven.apache.org/xsd/maven-4.0.0.xsd\">\\n    <modelVersion>4.0.0</modelVersion>\\n    <groupId>com.redhat.coolstore</groupId>\\n    <artifactId>monolith</artifactId>\\n    <version>1.0.0-SNAPSHOT</version>\\n    <packaging>war</packaging>\\n    <name>coolstore-monolith</name>\\n    <properties>\\n        <project.build.sourceEncoding>UTF-8</project.build.sourceEncoding>\\n        <maven.build.timestamp.format>yyyyMMdd\\'T\\'HHmmss</maven.build.timestamp.format>\\n        <project.encoding>UTF-8</project.encoding>\\n        <maven.test.skip>true</maven.test.skip>\\n    </properties>\\n    <dependencies>\\n        <dependency>\\n            <groupId>javax</groupId>\\n            <artifactId>javaee-web-api</artifactId>\\n            <version>7.0</version>\\n            <scope>provided</scope>\\n        </dependency>\\n        <dependency>\\n            <groupId>javax</groupId>\\n            <artifactId>javaee-api</artifactId>\\n            <version>7.0</version>\\n            <scope>provided</scope>\\n        </dependency>\\n        <dependency>\\n            <groupId>org.jboss.spec.javax.jms</groupId>\\n            <artifactId>jboss-jms-api_2.0_spec</artifactId>\\n            <version>2.0.0.Final</version>\\n        </dependency>\\n        <dependency>\\n            <groupId>org.flywaydb</groupId>\\n            <artifactId>flyway-core</artifactId>\\n            <version>4.1.2</version>\\n        </dependency>\\n        <dependency>\\n            <groupId>org.jboss.spec.javax.rmi</groupId>\\n            <artifactId>jboss-rmi-api_1.0_spec</artifactId>\\n            <version>1.0.2.Final</version>\\n        </dependency>\\n        <dependency>\\n            <groupId>io.quarkus</groupId>\\n            <artifactId>quarkus-resteasy</artifactId>\\n        </dependency>\\n        <dependency>\\n            <groupId>io.quarkus</groupId>\\n            <artifactId>quarkus-arc</artifactId>\\n        </dependency>\\n    </dependencies>\\n    <build>\\n        <finalName>ROOT</finalName>\\n        <plugins>\\n            <plugin>\\n                <artifactId>maven-compiler-plugin</artifactId>\\n                <version>3.0</version>\\n                <configuration>\\n                    <encoding>${project.encoding}</encoding>\\n                    <source>1.8</source>\\n                    <target>1.8</target>\\n                </configuration>\\n            </plugin>\\n            <plugin>\\n                <groupId>org.apache.maven.plugins</groupId>\\n                <artifactId>maven-war-plugin</artifactId>\\n                <version>3.2.0</version>\\n            </plugin>\\n        </plugins>\\n    </build>\\n    <profiles>\\n<!-- TODO: Add OpenShift profile here -->\\n    </profiles>\\n</project>'}, 'id': 'call_ZxP0yiOCcJ95qnn5Wd3hOsXL', 'type': 'tool_call'}], usage_metadata={'input_tokens': 1339, 'output_tokens': 897, 'total_tokens': 2236, 'input_token_details': {'audio': 0, 'cache_read': 0}, 'output_token_details': {'audio': 0, 'reasoning': 0}})]}})\n",
      "('updates', {'tools': {'messages': [ToolMessage(content='Successfully wrote contents to file /Users/pgaikwad/Projects/kai/notebooks/followup_agent/project/pom.xml', name='write', id='5f50fb48-4b89-4308-92d5-d76c14b4dd24', tool_call_id='call_ZxP0yiOCcJ95qnn5Wd3hOsXL')]}})\n",
      "('updates', {'agent': {'messages': [AIMessage(content='I have made the necessary updates:\\n\\n1. Removed the `beans.xml` file as requested.\\n2. Updated the `pom.xml` file to include the `quarkus-resteasy` and `quarkus-arc` dependencies to ensure CDI support in the Quarkus project.\\n\\nPlease proceed with testing the application to ensure CDI is functioning as expected without the `beans.xml` file.', additional_kwargs={'refusal': None}, response_metadata={'token_usage': {'completion_tokens': 82, 'prompt_tokens': 2269, 'total_tokens': 2351, 'completion_tokens_details': {'accepted_prediction_tokens': 0, 'audio_tokens': 0, 'reasoning_tokens': 0, 'rejected_prediction_tokens': 0}, 'prompt_tokens_details': {'audio_tokens': 0, 'cached_tokens': 2176}}, 'model_name': 'gpt-4o-2024-08-06', 'system_fingerprint': 'fp_eb9dce56a8', 'finish_reason': 'stop', 'logprobs': None}, id='run-ae7f7300-c518-47a3-9a71-87a75b1edc6a-0', usage_metadata={'input_tokens': 2269, 'output_tokens': 82, 'total_tokens': 2351, 'input_token_details': {'audio': 0, 'cache_read': 2176}, 'output_token_details': {'audio': 0, 'reasoning': 0}})]}})\n"
     ]
    }
   ],
   "source": [
    "additional_info_ex2 = \"\"\"- **Documentation Reference:** For more details on how Quarkus handles CDI, refer to the [Quarkus CDI Guide](https://quarkus.io/guides/cdi).\n",
    "- **Testing:** After removing `beans.xml`, ensure that the application is tested to verify that CDI is functioning as expected without the file.\n",
    "- **Dependencies:** Double-check the `pom.xml` to ensure all necessary CDI dependencies are included for Quarkus. This typically involves ensuring that the `quarkus-resteasy` or `quarkus-arc` extensions are present, as they provide CDI support.\"\"\"\n",
    "\n",
    "for state in file_ops_agent.stream(\n",
    "    {\"messages\": [HumanMessage(content=additional_info_ex2)]},\n",
    "    stream_mode=[\"updates\"]\n",
    "):\n",
    "    print(state)"
   ]
  }
 ],
 "metadata": {
  "kernelspec": {
   "display_name": "venv",
   "language": "python",
   "name": "python3"
  },
  "language_info": {
   "codemirror_mode": {
    "name": "ipython",
    "version": 3
   },
   "file_extension": ".py",
   "mimetype": "text/x-python",
   "name": "python",
   "nbconvert_exporter": "python",
   "pygments_lexer": "ipython3",
   "version": "3.12.5"
  }
 },
 "nbformat": 4,
 "nbformat_minor": 2
}
