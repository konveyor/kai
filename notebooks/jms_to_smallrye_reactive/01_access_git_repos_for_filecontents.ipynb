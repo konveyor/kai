{
 "cells": [
  {
   "cell_type": "markdown",
   "metadata": {},
   "source": [
    "# JMS -> SmallRye Reactive - jms-to-reactive-quarkus-00010\n",
    "\n",
    "> Explore the impacted files for a given Rule: jms-to-reactive-quarkus-00010\n",
    "\n",
    "##### Sample Applications Used\n",
    "* 2 sample apps from [JBoss EAP Quickstarts](https://github.com/jboss-developer/jboss-eap-quickstarts/tree/7.4.x) were chosen:  helloworld-mdb & cmt\n",
    "    * [helloworld-mdb](https://github.com/savitharaghunathan/helloworld-mdb)\n",
    "    * [cmt](https://github.com/konveyor-ecosystem/cmt)\n",
    "\n",
    "##### Using Custom Rules for JMS to SmallRye Reactive\n",
    "* Rules were developed by Juanma [@jmle](https://github.com/jmle)\n",
    "    * Rules originally from: https://github.com/jmle/rulesets/blob/jms-rule/default/generated/quarkus/05-jms-to-reactive-quarkus.windup.yaml\n"
   ]
  },
  {
   "cell_type": "code",
   "execution_count": 7,
   "metadata": {},
   "outputs": [
    {
     "name": "stdout",
     "output_type": "stream",
     "text": [
      "Obtaining file:///Users/jmatthews/git/jwmatthews/kai\n",
      "  Preparing metadata (setup.py) ... \u001b[?25ldone\n",
      "\u001b[?25hInstalling collected packages: kai\n",
      "  Attempting uninstall: kai\n",
      "    Found existing installation: kai 0.0.1\n",
      "    Uninstalling kai-0.0.1:\n",
      "      Successfully uninstalled kai-0.0.1\n",
      "  Running setup.py develop for kai\n",
      "Successfully installed kai-0.0.1\n"
     ]
    }
   ],
   "source": [
    "# Install local kai package in the current Jupyter kernel\n",
    "import sys\n",
    "\n",
    "!{sys.executable} -m pip install -e ../../"
   ]
  },
  {
   "cell_type": "markdown",
   "metadata": {},
   "source": [
    "# Explore how we will fetch file contents from Git for impacted files\n",
    "## Step #1:  Identify the information we will extract from existing analysis reports\n"
   ]
  },
  {
   "cell_type": "code",
   "execution_count": 8,
   "metadata": {},
   "outputs": [],
   "source": [
    "import pprint\n",
    "\n",
    "pp = pprint.PrettyPrinter(indent=2)"
   ]
  },
  {
   "cell_type": "code",
   "execution_count": 9,
   "metadata": {},
   "outputs": [
    {
     "name": "stdout",
     "output_type": "stream",
     "text": [
      "Reading report from ./analysis_report/cmt/output.yaml\n",
      "Reading report from ./analysis_report/helloworld-mdb-quarkus/output.yaml\n"
     ]
    }
   ],
   "source": [
    "from kai.report import Report\n",
    "\n",
    "path_cmt_analysis = \"./analysis_report/cmt/output.yaml\"\n",
    "path_helloworld_analysis = \"./analysis_report/helloworld-mdb-quarkus/output.yaml\"\n",
    "\n",
    "cmt_report = Report.load_report_from_file(path_cmt_analysis)\n",
    "helloworld_report = Report.load_report_from_file(path_helloworld_analysis)\n",
    "\n",
    "ruleset_name = \"custom-ruleset\"\n",
    "rule = \"jms-to-reactive-quarkus-00010\""
   ]
  },
  {
   "cell_type": "code",
   "execution_count": 10,
   "metadata": {},
   "outputs": [
    {
     "name": "stdout",
     "output_type": "stream",
     "text": [
      "Looking at CMT\n",
      "How many files are impacted by this rule?: 1\n",
      "File: src/main/java/org/jboss/as/quickstarts/cmt/mdb/HelloWorldMDB.java\n",
      "\tLine: 36\n",
      "\tMessage: Enterprise Java Beans (EJBs) are not supported in Quarkus. CDI must be used.\n",
      " Please replace the `@MessageDriven` annotation with a CDI scope annotation like `@ApplicationScoped`.\n",
      "\tVariables: {'file': 'file:///tmp/source-code/src/main/java/org/jboss/as/quickstarts/cmt/mdb/HelloWorldMDB.java', 'kind': 'Class', 'name': 'MessageDriven', 'package': 'org.jboss.as.quickstarts.cmt.mdb'}\n"
     ]
    }
   ],
   "source": [
    "print(f\"Looking at CMT\")\n",
    "cmt_rule_data = cmt_report.report[ruleset_name][\"violations\"][rule]\n",
    "\n",
    "# What files are impacted by this rule in CMT\n",
    "print(f\"How many files are impacted by this rule?: {len(cmt_rule_data['incidents'])}\")\n",
    "# The files impacted will be displayed under the 'incidents' as 'uri'\n",
    "for entry in cmt_rule_data[\"incidents\"]:\n",
    "    cleaned_uri = cmt_report.get_cleaned_file_path(entry[\"uri\"])\n",
    "    print(f\"File: {cleaned_uri}\")\n",
    "    print(f\"\\tLine: {entry['lineNumber']}\")\n",
    "    print(f\"\\tMessage: {entry['message']}\")\n",
    "    print(f\"\\tVariables: {entry['variables']}\")\n",
    "    # We could also print the code snippet via 'codeSnip'\n",
    "    # print(f\"\\tcodeSnip: \\n{entry['codeSnip']}\")"
   ]
  },
  {
   "cell_type": "code",
   "execution_count": 11,
   "metadata": {},
   "outputs": [
    {
     "name": "stdout",
     "output_type": "stream",
     "text": [
      "Looking at HelloWorld-MDB-Quarkus\n",
      "How many files are impacted by this rule?: 2\n",
      "File: src/main/java/org/jboss/as/quickstarts/mdb/HelloWorldQueueMDB.java\n",
      "\tLine: 34\n",
      "\tMessage: Enterprise Java Beans (EJBs) are not supported in Quarkus. CDI must be used.\n",
      " Please replace the `@MessageDriven` annotation with a CDI scope annotation like `@ApplicationScoped`.\n",
      "\tVariables: {'file': 'file:///tmp/source-code/src/main/java/org/jboss/as/quickstarts/mdb/HelloWorldQueueMDB.java', 'kind': 'Class', 'name': 'MessageDriven', 'package': 'org.jboss.as.quickstarts.mdb'}\n",
      "File: src/main/java/org/jboss/as/quickstarts/mdb/HelloWorldTopicMDB.java\n",
      "\tLine: 34\n",
      "\tMessage: Enterprise Java Beans (EJBs) are not supported in Quarkus. CDI must be used.\n",
      " Please replace the `@MessageDriven` annotation with a CDI scope annotation like `@ApplicationScoped`.\n",
      "\tVariables: {'file': 'file:///tmp/source-code/src/main/java/org/jboss/as/quickstarts/mdb/HelloWorldTopicMDB.java', 'kind': 'Class', 'name': 'MessageDriven', 'package': 'org.jboss.as.quickstarts.mdb'}\n"
     ]
    }
   ],
   "source": [
    "print(f\"Looking at HelloWorld-MDB-Quarkus\")\n",
    "helloworld_rule_data = helloworld_report.report[ruleset_name][\"violations\"][rule]\n",
    "\n",
    "# What files are impacted by this rule in HelloWorld\n",
    "print(\n",
    "    f\"How many files are impacted by this rule?: {len(helloworld_rule_data['incidents'])}\"\n",
    ")\n",
    "# The files impacted will be displayed under the 'incidents' as 'uri'\n",
    "for entry in helloworld_rule_data[\"incidents\"]:\n",
    "    cleaned_uri = helloworld_report.get_cleaned_file_path(entry[\"uri\"])\n",
    "    print(f\"File: {cleaned_uri}\")\n",
    "    print(f\"\\tLine: {entry['lineNumber']}\")\n",
    "    print(f\"\\tMessage: {entry['message']}\")\n",
    "    print(f\"\\tVariables: {entry['variables']}\")\n",
    "    # We could also print the code snippet via 'codeSnip'\n",
    "    # print(f\"\\tcodeSnip: \\n{entry['codeSnip']}\")"
   ]
  },
  {
   "cell_type": "markdown",
   "metadata": {},
   "source": [
    "## Step #2:  Verify we can access the original source code snippets  "
   ]
  },
  {
   "cell_type": "code",
   "execution_count": 12,
   "metadata": {},
   "outputs": [
    {
     "name": "stdout",
     "output_type": "stream",
     "text": [
      "File: src/main/java/org/jboss/as/quickstarts/cmt/mdb/HelloWorldMDB.java\n",
      "Contents - main :\n",
      " /*\n",
      " * JBoss, Home of Professional Open Source\n",
      " * Copyright 2015, Red Hat, Inc. and/or its affiliates, and individual\n",
      " * contributors by the @authors tag. See the copyright.txt in the\n",
      " * distribution for a full listing of individual contributors.\n",
      " *\n",
      " * Licensed under the Apache License, Version 2.0 (the \"License\");\n",
      " * you may not use this file except in compliance with the License.\n",
      " * You may obtain a copy of the License at\n",
      " * http://www.apache.org/licenses/LICENSE-2.0\n",
      " * Unless required by applicable law or agreed to in writing, software\n",
      " * distributed under the License is distributed on an \"AS IS\" BASIS,\n",
      " * WITHOUT WARRANTIES OR CONDITIONS OF ANY KIND, either express or implied.\n",
      " * See the License for the specific language governing permissions and\n",
      " * limitations under the License.\n",
      " */\n",
      "package org.jboss.as.quickstarts.cmt.mdb;\n",
      "\n",
      "import java.util.logging.Logger;\n",
      "\n",
      "import javax.ejb.ActivationConfigProperty;\n",
      "import javax.ejb.MessageDriven;\n",
      "import javax.jms.JMSException;\n",
      "import javax.jms.Message;\n",
      "import javax.jms.MessageListener;\n",
      "import javax.jms.TextMessage;\n",
      "\n",
      "/**\n",
      " * <p>\n",
      " * A simple Message Driven Bean that asynchronously receives and processes the messages that are sent to the queue.\n",
      " * </p>\n",
      " *\n",
      " * @author Serge Pagop (spagop@redhat.com)\n",
      " *\n",
      " */\n",
      "@MessageDriven(name = \"HelloWorldMDB\", activationConfig = {\n",
      "    @ActivationConfigProperty(propertyName = \"destinationType\", propertyValue = \"javax.jms.Queue\"),\n",
      "    @ActivationConfigProperty(propertyName = \"destination\", propertyValue = \"queue/CMTQueue\"),\n",
      "    @ActivationConfigProperty(propertyName = \"acknowledgeMode\", propertyValue = \"Auto-acknowledge\") })\n",
      "public class HelloWorldMDB implements MessageListener {\n",
      "\n",
      "    private static final Logger LOGGER = Logger.getLogger(HelloWorldMDB.class.toString());\n",
      "\n",
      "    /**\n",
      "     * @see MessageListener#onMessage(Message)\n",
      "     */\n",
      "    public void onMessage(Message rcvMessage) {\n",
      "        TextMessage msg = null;\n",
      "        try {\n",
      "            if (rcvMessage instanceof TextMessage) {\n",
      "                msg = (TextMessage) rcvMessage;\n",
      "                LOGGER.info(\"Received Message: \" + msg.getText());\n",
      "            } else {\n",
      "                LOGGER.warning(\"Message of wrong type: \" + rcvMessage.getClass().getName());\n",
      "            }\n",
      "        } catch (JMSException e) {\n",
      "            throw new RuntimeException(e);\n",
      "        }\n",
      "    }\n",
      "}\n",
      "\n",
      "Contents - quarkus:\n",
      " /*\n",
      " * JBoss, Home of Professional Open Source\n",
      " * Copyright 2015, Red Hat, Inc. and/or its affiliates, and individual\n",
      " * contributors by the @authors tag. See the copyright.txt in the\n",
      " * distribution for a full listing of individual contributors.\n",
      " *\n",
      " * Licensed under the Apache License, Version 2.0 (the \"License\");\n",
      " * you may not use this file except in compliance with the License.\n",
      " * You may obtain a copy of the License at\n",
      " * http://www.apache.org/licenses/LICENSE-2.0\n",
      " * Unless required by applicable law or agreed to in writing, software\n",
      " * distributed under the License is distributed on an \"AS IS\" BASIS,\n",
      " * WITHOUT WARRANTIES OR CONDITIONS OF ANY KIND, either express or implied.\n",
      " * See the License for the specific language governing permissions and\n",
      " * limitations under the License.\n",
      " */\n",
      "package org.jboss.as.quickstarts.cmt.mdb;\n",
      "\n",
      "import org.eclipse.microprofile.reactive.messaging.Incoming;\n",
      "\n",
      "import io.quarkus.logging.Log;\n",
      "import jakarta.enterprise.context.ApplicationScoped;\n",
      "\n",
      "/**\n",
      " * <p>\n",
      " * A simple Message Driven Bean that asynchronously receives and processes the messages that are sent to the queue.\n",
      " * </p>\n",
      " *\n",
      " * @author Serge Pagop (spagop@redhat.com)\n",
      " *\n",
      " */\n",
      "@ApplicationScoped\n",
      "public class HelloWorldMDB {\n",
      "\n",
      "    @Incoming(\"CMTQueue\")\n",
      "    public void onMessage(String msg) {\n",
      "        Log.info(\"Received Message: \" + msg);\n",
      "    }\n",
      "}\n",
      "\n"
     ]
    }
   ],
   "source": [
    "from kai.scm import GitDiff\n",
    "\n",
    "cmt_src_path = \"../../kai_solution_server/samples/sample_repos/cmt\"\n",
    "cmt_diff = GitDiff(cmt_src_path)\n",
    "\n",
    "for entry in cmt_rule_data[\"incidents\"]:\n",
    "    cleaned_uri = cmt_report.get_cleaned_file_path(entry[\"uri\"])\n",
    "    print(f\"File: {cleaned_uri}\")\n",
    "    print(\n",
    "        f\"Contents - main :\\n {cmt_diff.get_file_contents_from_branch(cleaned_uri, 'main')}\"\n",
    "    )\n",
    "    print(\n",
    "        f\"Contents - quarkus:\\n {cmt_diff.get_file_contents_from_branch(cleaned_uri, 'quarkus')}\"\n",
    "    )"
   ]
  },
  {
   "cell_type": "markdown",
   "metadata": {},
   "source": [
    "## Step #3:  Verify we can access the source code of a 'solved example', meaning access the 'quarkus' branch"
   ]
  },
  {
   "cell_type": "code",
   "execution_count": 13,
   "metadata": {},
   "outputs": [
    {
     "name": "stdout",
     "output_type": "stream",
     "text": [
      "File: src/main/java/org/jboss/as/quickstarts/mdb/HelloWorldQueueMDB.java\n",
      "Contents:\n",
      " /*\n",
      " * JBoss, Home of Professional Open Source\n",
      " * Copyright 2015, Red Hat, Inc. and/or its affiliates, and individual\n",
      " * contributors by the @authors tag. See the copyright.txt in the\n",
      " * distribution for a full listing of individual contributors.\n",
      " *\n",
      " * Licensed under the Apache License, Version 2.0 (the \"License\");\n",
      " * you may not use this file except in compliance with the License.\n",
      " * You may obtain a copy of the License at\n",
      " * http://www.apache.org/licenses/LICENSE-2.0\n",
      " * Unless required by applicable law or agreed to in writing, software\n",
      " * distributed under the License is distributed on an \"AS IS\" BASIS,\n",
      " * WITHOUT WARRANTIES OR CONDITIONS OF ANY KIND, either express or implied.\n",
      " * See the License for the specific language governing permissions and\n",
      " * limitations under the License.\n",
      " */\n",
      "package org.jboss.as.quickstarts.mdb;\n",
      "\n",
      "import jakarta.enterprise.context.ApplicationScoped;\n",
      "import io.smallrye.reactive.messaging.annotations.Merge;\n",
      "import org.jboss.logging.Logger;\n",
      "\n",
      "import org.eclipse.microprofile.reactive.messaging.Incoming;\n",
      "\n",
      "@ApplicationScoped\n",
      "public class HelloWorldQueueMDB {\n",
      "     private static final Logger LOGGER = Logger.getLogger(HelloWorldQueueMDB.class.toString());\n",
      "\n",
      "    @Incoming(\"HELLOWORLDMDBQueue\")\n",
      "    @Merge\n",
      "    public void onMessage(String message) {\n",
      "        LOGGER.info(\"Received Message from queue: \" + message);\n",
      "    }\n",
      "}\n",
      "\n",
      "\n",
      "\n",
      "\n",
      "File: src/main/java/org/jboss/as/quickstarts/mdb/HelloWorldTopicMDB.java\n",
      "Contents:\n",
      " /*\n",
      " * JBoss, Home of Professional Open Source\n",
      " * Copyright 2015, Red Hat, Inc. and/or its affiliates, and individual\n",
      " * contributors by the @authors tag. See the copyright.txt in the\n",
      " * distribution for a full listing of individual contributors.\n",
      " *\n",
      " * Licensed under the Apache License, Version 2.0 (the \"License\");\n",
      " * you may not use this file except in compliance with the License.\n",
      " * You may obtain a copy of the License at\n",
      " * http://www.apache.org/licenses/LICENSE-2.0\n",
      " * Unless required by applicable law or agreed to in writing, software\n",
      " * distributed under the License is distributed on an \"AS IS\" BASIS,\n",
      " * WITHOUT WARRANTIES OR CONDITIONS OF ANY KIND, either express or implied.\n",
      " * See the License for the specific language governing permissions and\n",
      " * limitations under the License.\n",
      " */\n",
      "package org.jboss.as.quickstarts.mdb;\n",
      "\n",
      "import jakarta.enterprise.context.ApplicationScoped;\n",
      "import org.jboss.logging.Logger;\n",
      "import io.smallrye.reactive.messaging.annotations.Merge;\n",
      "import org.eclipse.microprofile.reactive.messaging.Incoming;\n",
      "\n",
      "@ApplicationScoped\n",
      "public class HelloWorldTopicMDB {\n",
      "  \n",
      "    private static final Logger LOGGER = Logger.getLogger(HelloWorldTopicMDB.class.toString());\n",
      "\n",
      "\n",
      "    @Incoming(\"HELLOWORLDMDBTopic\")\n",
      "    @Merge\n",
      "    public void onMessage(String message) {\n",
      "        LOGGER.info(\"Received Message from Topic: \" + message);\n",
      "    }\n",
      "}\n",
      "\n",
      "\n",
      "\n",
      "\n",
      "\n"
     ]
    }
   ],
   "source": [
    "helloworld_src_path = \"../../kai_solution_server/samples/sample_repos/helloworld-mdb-quarkus\"\n",
    "helloworld_diff = GitDiff(helloworld_src_path)\n",
    "\n",
    "for entry in helloworld_rule_data[\"incidents\"]:\n",
    "    cleaned_uri = helloworld_report.get_cleaned_file_path(entry[\"uri\"])\n",
    "    print(f\"File: {cleaned_uri}\")\n",
    "    print(f\"Contents:\\n {helloworld_diff.get_file_contents(cleaned_uri, 'quarkus')}\")\n",
    "    print(f\"\\n\\n\")"
   ]
  },
  {
   "cell_type": "markdown",
   "metadata": {},
   "source": [
    "# Step #4: Verify we can extract a diff of what changed for the solved example"
   ]
  },
  {
   "cell_type": "code",
   "execution_count": 14,
   "metadata": {},
   "outputs": [
    {
     "name": "stdout",
     "output_type": "stream",
     "text": [
      "Branches = [<git.Head \"refs/heads/main\">, <git.Head \"refs/heads/quarkus\">]\n",
      "Branch 'main', start_commit = c0267672ffab448735100996f5ad8ed814c38847\n",
      "Branch 'quarkus', end_commit = 25f00d88f8bceefb223390dcdd656bd5af45146e\n",
      "Diff for src/main/java/org/jboss/as/quickstarts/mdb/HelloWorldTopicMDB.java between main and quarkus\n",
      "---\n",
      "None\n",
      "---\n"
     ]
    }
   ],
   "source": [
    "# Verify we can extract a diff of what changed between the two branches\n",
    "\n",
    "cmt_rule_data[\"incidents\"][0]\n",
    "cleaned_uri = cmt_report.get_cleaned_file_path(entry[\"uri\"])\n",
    "start_commit = cmt_diff.get_commit_from_branch(\"main\")\n",
    "end_commit = cmt_diff.get_commit_from_branch(\"quarkus\")\n",
    "solved_example_diff = cmt_diff.get_patch_for_file(start_commit, end_commit, cleaned_uri)\n",
    "\n",
    "print(f\"Branches = {cmt_diff.get_branches()}\")\n",
    "print(f\"Branch 'main', start_commit = {start_commit}\")\n",
    "print(f\"Branch 'quarkus', end_commit = {end_commit}\")\n",
    "print(f\"Diff for {cleaned_uri} between main and quarkus\")\n",
    "print(\"---\")\n",
    "print(solved_example_diff)\n",
    "print(\"---\")\n",
    "\n",
    "\n",
    "## Note that above is NOT working.\n",
    "## Need to rexamine and fix ability to extract diff between two branches\n",
    "##\n",
    "## Also need to account for when a remote branch exists which hasn't been checked out locally yet"
   ]
  }
 ],
 "metadata": {
  "kernelspec": {
   "display_name": "python3",
   "language": "python",
   "name": "python3"
  },
  "language_info": {
   "codemirror_mode": {
    "name": "ipython",
    "version": 3
   },
   "file_extension": ".py",
   "mimetype": "text/x-python",
   "name": "python",
   "nbconvert_exporter": "python",
   "pygments_lexer": "ipython3",
   "version": "3.11.6"
  }
 },
 "nbformat": 4,
 "nbformat_minor": 4
}
