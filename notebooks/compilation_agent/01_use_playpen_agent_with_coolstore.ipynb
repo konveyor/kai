{
 "cells": [
  {
   "cell_type": "markdown",
   "metadata": {},
   "source": [
    "# Proving the Playpen Agent/CodePlan for Compiler Errors\n",
    "\n",
    "We need prove that the playpen code plan agents workflow will work as expected. This will be a way to run them and make sure that things work as we expect."
   ]
  },
  {
   "cell_type": "markdown",
   "metadata": {},
   "source": [
    "## Setup"
   ]
  },
  {
   "cell_type": "code",
   "execution_count": null,
   "metadata": {
    "jupyter": {
     "outputs_hidden": true
    }
   },
   "outputs": [],
   "source": [
    "%load_ext autoreload\n",
    "%autoreload 2\n",
    "# Install local kai package in the current Jupyter kernel\n",
    "import sys\n",
    "\n",
    "!{sys.executable} -m pip install -e ../../\n",
    "\n",
    "sys.path.append(\"../../\")"
   ]
  },
  {
   "cell_type": "code",
   "execution_count": null,
   "metadata": {},
   "outputs": [],
   "source": [
    "import pprint\n",
    "\n",
    "pp = pprint.PrettyPrinter(indent=2)"
   ]
  },
  {
   "cell_type": "markdown",
   "metadata": {},
   "source": [
    "## Create the Test Environment\n",
    "\n",
    "For creating the test environment we will:\n",
    "\n",
    "1. move the coolstore to a temp direcotry\n",
    "2. Update the InventoryEntity to use UUID for the itemID as the type."
   ]
  },
  {
   "cell_type": "code",
   "execution_count": null,
   "metadata": {},
   "outputs": [],
   "source": [
    "import tempfile\n",
    "import shutil\n",
    "import os\n",
    "import subprocess\n",
    "\n",
    "#First we need to download coolstore if it does not exist.\n",
    "\n",
    "if not os.path.exists(\"./coolstore\"):\n",
    "    subprocess.run(\"../../example/fetch.sh\")\n",
    "\n",
    "temp_dir = tempfile.TemporaryDirectory()\n",
    "# coolstore_path = os.path.join(temp_dir.name, \"coolstore\")\n",
    "coolstore_path = \"/home/fabian/projects/github.com/konveyor-ecosystem/kai/example/coolstore\"\n",
    "# shutil.copytree(\"./coolstore\", coolstore_path)\n",
    "\n",
    "## make the necessary change\n",
    "shutil.copyfile(\"./testing_field_type_change_errors/InventoryEntity.java\", f\"{coolstore_path}/src/main/java/com/redhat/coolstore/model/InventoryEntity.java\")\n",
    "shutil.copyfile(\"./testing_field_type_change_errors/CatalogItemEntity.java\", f\"{coolstore_path}/src/main/java/com/redhat/coolstore/model/CatalogItemEntity.java\")\n",
    "\n",
    "print(temp_dir)\n"
   ]
  },
  {
   "cell_type": "markdown",
   "metadata": {},
   "source": [
    "## Set up the Code Plan types and run code plan."
   ]
  },
  {
   "cell_type": "code",
   "execution_count": null,
   "metadata": {},
   "outputs": [],
   "source": [
    "from playpen.repo_level_awareness.api import Agent, RpcClientConfig, Task, TaskResult, ValidationStep\n",
    "from playpen.repo_level_awareness.codeplan import TaskManager\n",
    "from playpen.repo_level_awareness.agents.compiler_agent import MavenCompilerAgent\n",
    "from playpen.repo_level_awareness.maven_validator import MavenCompileStep\n",
    "from kai.service.llm_interfacing.model_provider import ModelProvider\n",
    "from kai.models.kai_config import KaiConfig\n",
    "\n",
    "\n",
    "config = RpcClientConfig(coolstore_path)\n",
    "\n",
    "kai_config = KaiConfig.model_validate_filepath(\"../../kai/config.toml\")\n",
    "modelProvider = ModelProvider(kai_config.models)\n",
    "\n",
    "\n",
    "agent = MavenCompilerAgent(modelProvider.llm)\n",
    "\n",
    "task_manager = TaskManager(\n",
    "        config,\n",
    "        None,\n",
    "        validators=[MavenCompileStep(config)],\n",
    "        agents=[agent],\n",
    "    )\n",
    "\n",
    "\n",
    "for task in task_manager.get_next_task():\n",
    "    pp.pprint(task)\n",
    "    task_manager.supply_result(task_manager.execute_task(task))"
   ]
  },
  {
   "cell_type": "markdown",
   "metadata": {},
   "source": [
    "## Cleanup temp dir"
   ]
  },
  {
   "cell_type": "code",
   "execution_count": null,
   "metadata": {},
   "outputs": [],
   "source": [
    "temp_dir.cleanup()"
   ]
  }
 ],
 "metadata": {
  "kernelspec": {
   "display_name": "Python 3 (ipykernel)",
   "language": "python",
   "name": "python3"
  },
  "language_info": {
   "codemirror_mode": {
    "name": "ipython",
    "version": 3
   },
   "file_extension": ".py",
   "mimetype": "text/x-python",
   "name": "python",
   "nbconvert_exporter": "python",
   "pygments_lexer": "ipython3",
   "version": "3.12.5"
  }
 },
 "nbformat": 4,
 "nbformat_minor": 4
}
